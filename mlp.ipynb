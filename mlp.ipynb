{
 "cells": [
  {
   "cell_type": "code",
   "execution_count": 1,
   "id": "3226a1b9",
   "metadata": {},
   "outputs": [],
   "source": [
    "import matplotlib.pyplot as plt\n",
    "import seaborn as sns\n",
    "import numpy as np # linear algebra\n",
    "import pandas as pd # data processing, CSV file I/O (e.g. pd.read_csv)\n",
    "import torch\n",
    "import torch.nn as nn\n",
    "import torch.optim as optim\n",
    "from datetime import datetime\n",
    "from numpy import sqrt \n",
    "from sklearn.ensemble import RandomForestRegressor\n",
    "from sklearn.datasets import make_classification\n",
    "from sklearn.preprocessing import OneHotEncoder\n",
    "from sklearn.compose import ColumnTransformer\n",
    "from sklearn.pipeline import Pipeline\n",
    "from sklearn.linear_model import LogisticRegression\n",
    "from sklearn.model_selection import train_test_split\n",
    "from sklearn.metrics import mean_squared_error\n",
    "from sklearn.model_selection import RandomizedSearchCV\n",
    "from sklearn.preprocessing import StandardScaler\n",
    "# from keras.models import Sequential\n",
    "# from keras.layers import Dense\n",
    "from torch.utils.data import DataLoader\n",
    "\n",
    "from tqdm import tqdm"
   ]
  },
  {
   "cell_type": "code",
   "execution_count": 2,
   "id": "2e777e6c",
   "metadata": {},
   "outputs": [
    {
     "name": "stdout",
     "output_type": "stream",
     "text": [
      "cuda\n"
     ]
    }
   ],
   "source": [
    "device = 'cpu'\n",
    "if torch.cuda.is_available():\n",
    "    device = torch.device('cuda')\n",
    "print(device)"
   ]
  },
  {
   "cell_type": "code",
   "execution_count": 3,
   "id": "5fa75644",
   "metadata": {},
   "outputs": [],
   "source": [
    "data = pd.read_csv('train_cleaned.csv')\n",
    "test_data = pd.read_csv('test_public.csv')"
   ]
  },
  {
   "cell_type": "code",
   "execution_count": 4,
   "id": "8f2753b7",
   "metadata": {},
   "outputs": [
    {
     "data": {
      "text/plain": [
       "(217956, 23)"
      ]
     },
     "execution_count": 4,
     "metadata": {},
     "output_type": "execute_result"
    }
   ],
   "source": [
    "data.head()\n",
    "data.shape"
   ]
  },
  {
   "cell_type": "code",
   "execution_count": 5,
   "id": "49edffe4",
   "metadata": {},
   "outputs": [
    {
     "data": {
      "text/html": [
       "<div>\n",
       "<style scoped>\n",
       "    .dataframe tbody tr th:only-of-type {\n",
       "        vertical-align: middle;\n",
       "    }\n",
       "\n",
       "    .dataframe tbody tr th {\n",
       "        vertical-align: top;\n",
       "    }\n",
       "\n",
       "    .dataframe thead th {\n",
       "        text-align: right;\n",
       "    }\n",
       "</style>\n",
       "<table border=\"1\" class=\"dataframe\">\n",
       "  <thead>\n",
       "    <tr style=\"text-align: right;\">\n",
       "      <th></th>\n",
       "      <th>TRIP_ID</th>\n",
       "      <th>CALL_TYPE</th>\n",
       "      <th>ORIGIN_CALL</th>\n",
       "      <th>ORIGIN_STAND</th>\n",
       "      <th>TAXI_ID</th>\n",
       "      <th>TIMESTAMP</th>\n",
       "      <th>DAY_TYPE</th>\n",
       "      <th>MISSING_DATA</th>\n",
       "    </tr>\n",
       "  </thead>\n",
       "  <tbody>\n",
       "    <tr>\n",
       "      <th>0</th>\n",
       "      <td>T1</td>\n",
       "      <td>B</td>\n",
       "      <td>NaN</td>\n",
       "      <td>15.0</td>\n",
       "      <td>20000542</td>\n",
       "      <td>1408039037</td>\n",
       "      <td>A</td>\n",
       "      <td>False</td>\n",
       "    </tr>\n",
       "    <tr>\n",
       "      <th>1</th>\n",
       "      <td>T2</td>\n",
       "      <td>B</td>\n",
       "      <td>NaN</td>\n",
       "      <td>57.0</td>\n",
       "      <td>20000108</td>\n",
       "      <td>1408038611</td>\n",
       "      <td>A</td>\n",
       "      <td>False</td>\n",
       "    </tr>\n",
       "    <tr>\n",
       "      <th>2</th>\n",
       "      <td>T3</td>\n",
       "      <td>B</td>\n",
       "      <td>NaN</td>\n",
       "      <td>15.0</td>\n",
       "      <td>20000370</td>\n",
       "      <td>1408038568</td>\n",
       "      <td>A</td>\n",
       "      <td>False</td>\n",
       "    </tr>\n",
       "    <tr>\n",
       "      <th>3</th>\n",
       "      <td>T4</td>\n",
       "      <td>B</td>\n",
       "      <td>NaN</td>\n",
       "      <td>53.0</td>\n",
       "      <td>20000492</td>\n",
       "      <td>1408039090</td>\n",
       "      <td>A</td>\n",
       "      <td>False</td>\n",
       "    </tr>\n",
       "    <tr>\n",
       "      <th>4</th>\n",
       "      <td>T5</td>\n",
       "      <td>B</td>\n",
       "      <td>NaN</td>\n",
       "      <td>18.0</td>\n",
       "      <td>20000621</td>\n",
       "      <td>1408039177</td>\n",
       "      <td>A</td>\n",
       "      <td>False</td>\n",
       "    </tr>\n",
       "  </tbody>\n",
       "</table>\n",
       "</div>"
      ],
      "text/plain": [
       "  TRIP_ID CALL_TYPE  ORIGIN_CALL  ORIGIN_STAND   TAXI_ID   TIMESTAMP DAY_TYPE  \\\n",
       "0      T1         B          NaN          15.0  20000542  1408039037        A   \n",
       "1      T2         B          NaN          57.0  20000108  1408038611        A   \n",
       "2      T3         B          NaN          15.0  20000370  1408038568        A   \n",
       "3      T4         B          NaN          53.0  20000492  1408039090        A   \n",
       "4      T5         B          NaN          18.0  20000621  1408039177        A   \n",
       "\n",
       "   MISSING_DATA  \n",
       "0         False  \n",
       "1         False  \n",
       "2         False  \n",
       "3         False  \n",
       "4         False  "
      ]
     },
     "execution_count": 5,
     "metadata": {},
     "output_type": "execute_result"
    }
   ],
   "source": [
    "test_data.head()"
   ]
  },
  {
   "cell_type": "code",
   "execution_count": 6,
   "id": "0a825e08",
   "metadata": {},
   "outputs": [
    {
     "name": "stdout",
     "output_type": "stream",
     "text": [
      "Index(['TRIP_ID', 'CALL_TYPE', 'ORIGIN_CALL', 'TAXI_ID', 'TIMESTAMP',\n",
      "       'END_TIMESTAMP', 'tripTimeSec', 'MON', 'DAY', 'WK_DAY', 'START_HR',\n",
      "       'START_MIN', 'START_QTR', 'END_HR', 'END_MIN', 'END_QTR',\n",
      "       'ORIGIN_STAND', 'STAND_LAT', 'STAND_LONG', 'IS_HOSPITAL', 'IS_STADIUM',\n",
      "       'IS_UNIV', 'POLYLINE'],\n",
      "      dtype='object')\n",
      "Index(['TRIP_ID', 'CALL_TYPE', 'ORIGIN_CALL', 'ORIGIN_STAND', 'TAXI_ID',\n",
      "       'TIMESTAMP', 'DAY_TYPE', 'MISSING_DATA'],\n",
      "      dtype='object')\n"
     ]
    }
   ],
   "source": [
    "print(data.columns)\n",
    "print(test_data.columns)"
   ]
  },
  {
   "cell_type": "code",
   "execution_count": 7,
   "id": "137a10c8",
   "metadata": {},
   "outputs": [
    {
     "name": "stdout",
     "output_type": "stream",
     "text": [
      "Index(['TRIP_ID', 'CALL_TYPE', 'ORIGIN_CALL', 'TAXI_ID', 'TIMESTAMP',\n",
      "       'END_TIMESTAMP', 'tripTimeSec', 'MON', 'DAY', 'WK_DAY', 'START_HR',\n",
      "       'START_MIN', 'START_QTR', 'END_HR', 'END_MIN', 'END_QTR',\n",
      "       'ORIGIN_STAND', 'STAND_LAT', 'STAND_LONG', 'IS_HOSPITAL', 'IS_STADIUM',\n",
      "       'IS_UNIV', 'POLYLINE'],\n",
      "      dtype='object')\n",
      "Index(['TRIP_ID', 'CALL_TYPE', 'ORIGIN_CALL', 'ORIGIN_STAND', 'TAXI_ID',\n",
      "       'TIMESTAMP', 'DAY_TYPE', 'MISSING_DATA', 'YR', 'MON', 'DAY', 'START_HR',\n",
      "       'START_MIN', 'WK_DAY'],\n",
      "      dtype='object')\n"
     ]
    }
   ],
   "source": [
    "def parse_time(x):\n",
    "    dt = datetime.fromtimestamp(x[\"TIMESTAMP\"])\n",
    "    return dt.year, dt.month, dt.day, dt.hour, dt.minute, dt.weekday()\n",
    "test_data[[\"YR\", \"MON\", \"DAY\", \"START_HR\", \"START_MIN\", \"WK_DAY\"]] = test_data[['TIMESTAMP']].apply(parse_time, axis=1, result_type=\"expand\")\n",
    "print(data.columns)\n",
    "print(test_data.columns)"
   ]
  },
  {
   "cell_type": "code",
   "execution_count": 8,
   "id": "d178634e",
   "metadata": {},
   "outputs": [
    {
     "name": "stdout",
     "output_type": "stream",
     "text": [
      "Index(['TRIP_ID', 'CALL_TYPE', 'ORIGIN_CALL', 'TAXI_ID', 'TIMESTAMP',\n",
      "       'END_TIMESTAMP', 'tripTimeSec', 'MON', 'DAY', 'WK_DAY', 'START_HR',\n",
      "       'START_MIN', 'START_QTR', 'END_HR', 'END_MIN', 'END_QTR',\n",
      "       'ORIGIN_STAND', 'STAND_LAT', 'STAND_LONG', 'IS_HOSPITAL', 'IS_STADIUM',\n",
      "       'IS_UNIV', 'POLYLINE'],\n",
      "      dtype='object')\n",
      "Index(['TRIP_ID', 'CALL_TYPE', 'ORIGIN_CALL', 'ORIGIN_STAND', 'TAXI_ID',\n",
      "       'TIMESTAMP', 'DAY_TYPE', 'MISSING_DATA', 'YR', 'MON', 'DAY', 'START_HR',\n",
      "       'START_MIN', 'WK_DAY', 'START_QTR'],\n",
      "      dtype='object')\n"
     ]
    }
   ],
   "source": [
    "def minute_to_quarter(x):\n",
    "    if(x >= 0 and x < 15):\n",
    "        return 1\n",
    "    elif(x >= 15 and x < 30):\n",
    "        return 2\n",
    "    elif(x >= 30 and x < 45):\n",
    "        return 3\n",
    "    else:\n",
    "        return 4\n",
    "test_data[\"START_QTR\"] = test_data[\"START_MIN\"].apply(minute_to_quarter)\n",
    "print(data.columns)\n",
    "print(test_data.columns)"
   ]
  },
  {
   "cell_type": "code",
   "execution_count": 9,
   "id": "05d7abb6",
   "metadata": {},
   "outputs": [
    {
     "name": "stderr",
     "output_type": "stream",
     "text": [
      "/tmp/ipykernel_298/1727982855.py:1: FutureWarning: iteritems is deprecated and will be removed in a future version. Use .items instead.\n",
      "  for index, value in test_data['ORIGIN_STAND'].iteritems():\n"
     ]
    },
    {
     "data": {
      "text/html": [
       "<div>\n",
       "<style scoped>\n",
       "    .dataframe tbody tr th:only-of-type {\n",
       "        vertical-align: middle;\n",
       "    }\n",
       "\n",
       "    .dataframe tbody tr th {\n",
       "        vertical-align: top;\n",
       "    }\n",
       "\n",
       "    .dataframe thead th {\n",
       "        text-align: right;\n",
       "    }\n",
       "</style>\n",
       "<table border=\"1\" class=\"dataframe\">\n",
       "  <thead>\n",
       "    <tr style=\"text-align: right;\">\n",
       "      <th></th>\n",
       "      <th>TRIP_ID</th>\n",
       "      <th>CALL_TYPE</th>\n",
       "      <th>ORIGIN_CALL</th>\n",
       "      <th>ORIGIN_STAND</th>\n",
       "      <th>TAXI_ID</th>\n",
       "      <th>TIMESTAMP</th>\n",
       "      <th>DAY_TYPE</th>\n",
       "      <th>MISSING_DATA</th>\n",
       "      <th>YR</th>\n",
       "      <th>MON</th>\n",
       "      <th>DAY</th>\n",
       "      <th>START_HR</th>\n",
       "      <th>START_MIN</th>\n",
       "      <th>WK_DAY</th>\n",
       "      <th>START_QTR</th>\n",
       "      <th>IS_HOSPITAL</th>\n",
       "      <th>IS_STADIUM</th>\n",
       "      <th>IS_UNIV</th>\n",
       "    </tr>\n",
       "  </thead>\n",
       "  <tbody>\n",
       "    <tr>\n",
       "      <th>0</th>\n",
       "      <td>T1</td>\n",
       "      <td>B</td>\n",
       "      <td>NaN</td>\n",
       "      <td>15.0</td>\n",
       "      <td>20000542</td>\n",
       "      <td>1408039037</td>\n",
       "      <td>A</td>\n",
       "      <td>False</td>\n",
       "      <td>2014</td>\n",
       "      <td>8</td>\n",
       "      <td>14</td>\n",
       "      <td>17</td>\n",
       "      <td>57</td>\n",
       "      <td>3</td>\n",
       "      <td>4</td>\n",
       "      <td>0.0</td>\n",
       "      <td>0.0</td>\n",
       "      <td>0.0</td>\n",
       "    </tr>\n",
       "    <tr>\n",
       "      <th>1</th>\n",
       "      <td>T2</td>\n",
       "      <td>B</td>\n",
       "      <td>NaN</td>\n",
       "      <td>57.0</td>\n",
       "      <td>20000108</td>\n",
       "      <td>1408038611</td>\n",
       "      <td>A</td>\n",
       "      <td>False</td>\n",
       "      <td>2014</td>\n",
       "      <td>8</td>\n",
       "      <td>14</td>\n",
       "      <td>17</td>\n",
       "      <td>50</td>\n",
       "      <td>3</td>\n",
       "      <td>4</td>\n",
       "      <td>0.0</td>\n",
       "      <td>0.0</td>\n",
       "      <td>0.0</td>\n",
       "    </tr>\n",
       "    <tr>\n",
       "      <th>2</th>\n",
       "      <td>T3</td>\n",
       "      <td>B</td>\n",
       "      <td>NaN</td>\n",
       "      <td>15.0</td>\n",
       "      <td>20000370</td>\n",
       "      <td>1408038568</td>\n",
       "      <td>A</td>\n",
       "      <td>False</td>\n",
       "      <td>2014</td>\n",
       "      <td>8</td>\n",
       "      <td>14</td>\n",
       "      <td>17</td>\n",
       "      <td>49</td>\n",
       "      <td>3</td>\n",
       "      <td>4</td>\n",
       "      <td>0.0</td>\n",
       "      <td>0.0</td>\n",
       "      <td>0.0</td>\n",
       "    </tr>\n",
       "    <tr>\n",
       "      <th>3</th>\n",
       "      <td>T4</td>\n",
       "      <td>B</td>\n",
       "      <td>NaN</td>\n",
       "      <td>53.0</td>\n",
       "      <td>20000492</td>\n",
       "      <td>1408039090</td>\n",
       "      <td>A</td>\n",
       "      <td>False</td>\n",
       "      <td>2014</td>\n",
       "      <td>8</td>\n",
       "      <td>14</td>\n",
       "      <td>17</td>\n",
       "      <td>58</td>\n",
       "      <td>3</td>\n",
       "      <td>4</td>\n",
       "      <td>0.0</td>\n",
       "      <td>0.0</td>\n",
       "      <td>0.0</td>\n",
       "    </tr>\n",
       "    <tr>\n",
       "      <th>4</th>\n",
       "      <td>T5</td>\n",
       "      <td>B</td>\n",
       "      <td>NaN</td>\n",
       "      <td>18.0</td>\n",
       "      <td>20000621</td>\n",
       "      <td>1408039177</td>\n",
       "      <td>A</td>\n",
       "      <td>False</td>\n",
       "      <td>2014</td>\n",
       "      <td>8</td>\n",
       "      <td>14</td>\n",
       "      <td>17</td>\n",
       "      <td>59</td>\n",
       "      <td>3</td>\n",
       "      <td>4</td>\n",
       "      <td>0.0</td>\n",
       "      <td>0.0</td>\n",
       "      <td>0.0</td>\n",
       "    </tr>\n",
       "  </tbody>\n",
       "</table>\n",
       "</div>"
      ],
      "text/plain": [
       "  TRIP_ID CALL_TYPE  ORIGIN_CALL  ORIGIN_STAND   TAXI_ID   TIMESTAMP DAY_TYPE  \\\n",
       "0      T1         B          NaN          15.0  20000542  1408039037        A   \n",
       "1      T2         B          NaN          57.0  20000108  1408038611        A   \n",
       "2      T3         B          NaN          15.0  20000370  1408038568        A   \n",
       "3      T4         B          NaN          53.0  20000492  1408039090        A   \n",
       "4      T5         B          NaN          18.0  20000621  1408039177        A   \n",
       "\n",
       "   MISSING_DATA    YR  MON  DAY  START_HR  START_MIN  WK_DAY  START_QTR  \\\n",
       "0         False  2014    8   14        17         57       3          4   \n",
       "1         False  2014    8   14        17         50       3          4   \n",
       "2         False  2014    8   14        17         49       3          4   \n",
       "3         False  2014    8   14        17         58       3          4   \n",
       "4         False  2014    8   14        17         59       3          4   \n",
       "\n",
       "   IS_HOSPITAL  IS_STADIUM  IS_UNIV  \n",
       "0          0.0         0.0      0.0  \n",
       "1          0.0         0.0      0.0  \n",
       "2          0.0         0.0      0.0  \n",
       "3          0.0         0.0      0.0  \n",
       "4          0.0         0.0      0.0  "
      ]
     },
     "execution_count": 9,
     "metadata": {},
     "output_type": "execute_result"
    }
   ],
   "source": [
    "for index, value in test_data['ORIGIN_STAND'].iteritems():\n",
    "    if float(value) == 33.0 or float(value) == 39.0:\n",
    "        test_data.loc[index, 'IS_HOSPITAL'] = 1\n",
    "    else:\n",
    "        test_data.loc[index, 'IS_HOSPITAL'] = 0\n",
    "    indexes = [2.0, 3.0, 26.0, 28.0, 44.0]\n",
    "    if float(value) in indexes:\n",
    "        test_data.loc[index, 'IS_STADIUM'] = 1\n",
    "    else:\n",
    "        test_data.loc[index, 'IS_STADIUM'] = 0\n",
    "    indexes = [1.0, 25.0, 33.0, 42.0, 49.0]\n",
    "    if float(value) in indexes:\n",
    "        test_data.loc[index, 'IS_UNIV'] = 1\n",
    "    else:\n",
    "        test_data.loc[index, 'IS_UNIV'] = 0\n",
    "test_data.head()"
   ]
  },
  {
   "cell_type": "code",
   "execution_count": 10,
   "id": "29967c3b",
   "metadata": {},
   "outputs": [
    {
     "name": "stdout",
     "output_type": "stream",
     "text": [
      "Index(['TRIP_ID', 'CALL_TYPE', 'ORIGIN_CALL', 'TAXI_ID', 'TIMESTAMP',\n",
      "       'END_TIMESTAMP', 'tripTimeSec', 'MON', 'DAY', 'WK_DAY', 'START_HR',\n",
      "       'START_MIN', 'START_QTR', 'END_HR', 'END_MIN', 'END_QTR',\n",
      "       'ORIGIN_STAND', 'STAND_LAT', 'STAND_LONG', 'IS_HOSPITAL', 'IS_STADIUM',\n",
      "       'IS_UNIV', 'POLYLINE'],\n",
      "      dtype='object')\n",
      "Index(['TRIP_ID', 'CALL_TYPE', 'ORIGIN_CALL', 'ORIGIN_STAND', 'TAXI_ID',\n",
      "       'TIMESTAMP', 'DAY_TYPE', 'MISSING_DATA', 'YR', 'MON', 'DAY', 'START_HR',\n",
      "       'START_MIN', 'WK_DAY', 'START_QTR', 'IS_HOSPITAL', 'IS_STADIUM',\n",
      "       'IS_UNIV'],\n",
      "      dtype='object')\n"
     ]
    }
   ],
   "source": [
    "print(data.columns)\n",
    "print(test_data.columns)"
   ]
  },
  {
   "cell_type": "code",
   "execution_count": 11,
   "id": "a9e0130c",
   "metadata": {},
   "outputs": [
    {
     "data": {
      "text/html": [
       "<div>\n",
       "<style scoped>\n",
       "    .dataframe tbody tr th:only-of-type {\n",
       "        vertical-align: middle;\n",
       "    }\n",
       "\n",
       "    .dataframe tbody tr th {\n",
       "        vertical-align: top;\n",
       "    }\n",
       "\n",
       "    .dataframe thead th {\n",
       "        text-align: right;\n",
       "    }\n",
       "</style>\n",
       "<table border=\"1\" class=\"dataframe\">\n",
       "  <thead>\n",
       "    <tr style=\"text-align: right;\">\n",
       "      <th></th>\n",
       "      <th>CALL_TYPE</th>\n",
       "      <th>TAXI_ID</th>\n",
       "      <th>tripTimeSec</th>\n",
       "      <th>MON</th>\n",
       "      <th>DAY</th>\n",
       "      <th>WK_DAY</th>\n",
       "      <th>START_HR</th>\n",
       "      <th>START_MIN</th>\n",
       "      <th>START_QTR</th>\n",
       "      <th>ORIGIN_STAND</th>\n",
       "      <th>IS_HOSPITAL</th>\n",
       "      <th>IS_STADIUM</th>\n",
       "      <th>IS_UNIV</th>\n",
       "    </tr>\n",
       "  </thead>\n",
       "  <tbody>\n",
       "    <tr>\n",
       "      <th>0</th>\n",
       "      <td>B</td>\n",
       "      <td>20000603</td>\n",
       "      <td>375</td>\n",
       "      <td>8</td>\n",
       "      <td>1</td>\n",
       "      <td>3</td>\n",
       "      <td>2</td>\n",
       "      <td>1</td>\n",
       "      <td>1</td>\n",
       "      <td>13.0</td>\n",
       "      <td>0.0</td>\n",
       "      <td>0.0</td>\n",
       "      <td>0.0</td>\n",
       "    </tr>\n",
       "    <tr>\n",
       "      <th>1</th>\n",
       "      <td>B</td>\n",
       "      <td>20000372</td>\n",
       "      <td>510</td>\n",
       "      <td>8</td>\n",
       "      <td>1</td>\n",
       "      <td>3</td>\n",
       "      <td>2</td>\n",
       "      <td>2</td>\n",
       "      <td>1</td>\n",
       "      <td>23.0</td>\n",
       "      <td>0.0</td>\n",
       "      <td>0.0</td>\n",
       "      <td>0.0</td>\n",
       "    </tr>\n",
       "    <tr>\n",
       "      <th>2</th>\n",
       "      <td>A</td>\n",
       "      <td>20000488</td>\n",
       "      <td>735</td>\n",
       "      <td>8</td>\n",
       "      <td>1</td>\n",
       "      <td>3</td>\n",
       "      <td>2</td>\n",
       "      <td>3</td>\n",
       "      <td>1</td>\n",
       "      <td>0.0</td>\n",
       "      <td>0.0</td>\n",
       "      <td>0.0</td>\n",
       "      <td>0.0</td>\n",
       "    </tr>\n",
       "    <tr>\n",
       "      <th>3</th>\n",
       "      <td>B</td>\n",
       "      <td>20000686</td>\n",
       "      <td>750</td>\n",
       "      <td>8</td>\n",
       "      <td>1</td>\n",
       "      <td>3</td>\n",
       "      <td>2</td>\n",
       "      <td>4</td>\n",
       "      <td>1</td>\n",
       "      <td>23.0</td>\n",
       "      <td>0.0</td>\n",
       "      <td>0.0</td>\n",
       "      <td>0.0</td>\n",
       "    </tr>\n",
       "    <tr>\n",
       "      <th>4</th>\n",
       "      <td>C</td>\n",
       "      <td>20000678</td>\n",
       "      <td>555</td>\n",
       "      <td>8</td>\n",
       "      <td>1</td>\n",
       "      <td>3</td>\n",
       "      <td>2</td>\n",
       "      <td>4</td>\n",
       "      <td>1</td>\n",
       "      <td>0.0</td>\n",
       "      <td>0.0</td>\n",
       "      <td>0.0</td>\n",
       "      <td>0.0</td>\n",
       "    </tr>\n",
       "  </tbody>\n",
       "</table>\n",
       "</div>"
      ],
      "text/plain": [
       "  CALL_TYPE   TAXI_ID  tripTimeSec  MON  DAY  WK_DAY  START_HR  START_MIN  \\\n",
       "0         B  20000603          375    8    1       3         2          1   \n",
       "1         B  20000372          510    8    1       3         2          2   \n",
       "2         A  20000488          735    8    1       3         2          3   \n",
       "3         B  20000686          750    8    1       3         2          4   \n",
       "4         C  20000678          555    8    1       3         2          4   \n",
       "\n",
       "   START_QTR  ORIGIN_STAND  IS_HOSPITAL  IS_STADIUM  IS_UNIV  \n",
       "0          1          13.0          0.0         0.0      0.0  \n",
       "1          1          23.0          0.0         0.0      0.0  \n",
       "2          1           0.0          0.0         0.0      0.0  \n",
       "3          1          23.0          0.0         0.0      0.0  \n",
       "4          1           0.0          0.0         0.0      0.0  "
      ]
     },
     "execution_count": 11,
     "metadata": {},
     "output_type": "execute_result"
    }
   ],
   "source": [
    "data = data.drop(['POLYLINE', 'STAND_LAT', 'STAND_LONG', 'ORIGIN_CALL', 'TRIP_ID','TIMESTAMP', 'END_TIMESTAMP', 'END_HR', 'END_MIN', 'END_QTR'], axis=1)\n",
    "data.head()"
   ]
  },
  {
   "cell_type": "code",
   "execution_count": 12,
   "id": "37f594d0",
   "metadata": {},
   "outputs": [
    {
     "name": "stdout",
     "output_type": "stream",
     "text": [
      "['CALL_TYPE' 'DAY' 'IS_HOSPITAL' 'IS_STADIUM' 'IS_UNIV' 'MON'\n",
      " 'ORIGIN_STAND' 'START_HR' 'START_MIN' 'START_QTR' 'TAXI_ID' 'WK_DAY']\n",
      "['CALL_TYPE' 'DAY' 'IS_HOSPITAL' 'IS_STADIUM' 'IS_UNIV' 'MON'\n",
      " 'ORIGIN_STAND' 'START_HR' 'START_MIN' 'START_QTR' 'TAXI_ID' 'WK_DAY'\n",
      " 'tripTimeSec']\n"
     ]
    }
   ],
   "source": [
    "test_data = test_data.drop(['TRIP_ID', 'ORIGIN_CALL', 'YR', 'DAY_TYPE', 'MISSING_DATA', 'TIMESTAMP'], axis = 1)\n",
    "test_data.head()\n",
    "print(np.sort(test_data.columns))\n",
    "print(np.sort(data.columns))"
   ]
  },
  {
   "cell_type": "code",
   "execution_count": 13,
   "id": "dfb06c1c",
   "metadata": {},
   "outputs": [
    {
     "name": "stdout",
     "output_type": "stream",
     "text": [
      "(217956, 13)\n"
     ]
    },
    {
     "data": {
      "text/html": [
       "<div>\n",
       "<style scoped>\n",
       "    .dataframe tbody tr th:only-of-type {\n",
       "        vertical-align: middle;\n",
       "    }\n",
       "\n",
       "    .dataframe tbody tr th {\n",
       "        vertical-align: top;\n",
       "    }\n",
       "\n",
       "    .dataframe thead th {\n",
       "        text-align: right;\n",
       "    }\n",
       "</style>\n",
       "<table border=\"1\" class=\"dataframe\">\n",
       "  <thead>\n",
       "    <tr style=\"text-align: right;\">\n",
       "      <th></th>\n",
       "      <th>CALL_TYPE</th>\n",
       "      <th>DAY</th>\n",
       "      <th>IS_HOSPITAL</th>\n",
       "      <th>IS_STADIUM</th>\n",
       "      <th>IS_UNIV</th>\n",
       "      <th>MON</th>\n",
       "      <th>ORIGIN_STAND</th>\n",
       "      <th>START_HR</th>\n",
       "      <th>START_MIN</th>\n",
       "      <th>START_QTR</th>\n",
       "      <th>TAXI_ID</th>\n",
       "      <th>WK_DAY</th>\n",
       "      <th>tripTimeSec</th>\n",
       "    </tr>\n",
       "  </thead>\n",
       "  <tbody>\n",
       "    <tr>\n",
       "      <th>0</th>\n",
       "      <td>B</td>\n",
       "      <td>1</td>\n",
       "      <td>0.0</td>\n",
       "      <td>0.0</td>\n",
       "      <td>0.0</td>\n",
       "      <td>8</td>\n",
       "      <td>13.0</td>\n",
       "      <td>2</td>\n",
       "      <td>1</td>\n",
       "      <td>1</td>\n",
       "      <td>20000603</td>\n",
       "      <td>3</td>\n",
       "      <td>375</td>\n",
       "    </tr>\n",
       "    <tr>\n",
       "      <th>1</th>\n",
       "      <td>B</td>\n",
       "      <td>1</td>\n",
       "      <td>0.0</td>\n",
       "      <td>0.0</td>\n",
       "      <td>0.0</td>\n",
       "      <td>8</td>\n",
       "      <td>23.0</td>\n",
       "      <td>2</td>\n",
       "      <td>2</td>\n",
       "      <td>1</td>\n",
       "      <td>20000372</td>\n",
       "      <td>3</td>\n",
       "      <td>510</td>\n",
       "    </tr>\n",
       "    <tr>\n",
       "      <th>2</th>\n",
       "      <td>A</td>\n",
       "      <td>1</td>\n",
       "      <td>0.0</td>\n",
       "      <td>0.0</td>\n",
       "      <td>0.0</td>\n",
       "      <td>8</td>\n",
       "      <td>0.0</td>\n",
       "      <td>2</td>\n",
       "      <td>3</td>\n",
       "      <td>1</td>\n",
       "      <td>20000488</td>\n",
       "      <td>3</td>\n",
       "      <td>735</td>\n",
       "    </tr>\n",
       "    <tr>\n",
       "      <th>3</th>\n",
       "      <td>B</td>\n",
       "      <td>1</td>\n",
       "      <td>0.0</td>\n",
       "      <td>0.0</td>\n",
       "      <td>0.0</td>\n",
       "      <td>8</td>\n",
       "      <td>23.0</td>\n",
       "      <td>2</td>\n",
       "      <td>4</td>\n",
       "      <td>1</td>\n",
       "      <td>20000686</td>\n",
       "      <td>3</td>\n",
       "      <td>750</td>\n",
       "    </tr>\n",
       "    <tr>\n",
       "      <th>4</th>\n",
       "      <td>C</td>\n",
       "      <td>1</td>\n",
       "      <td>0.0</td>\n",
       "      <td>0.0</td>\n",
       "      <td>0.0</td>\n",
       "      <td>8</td>\n",
       "      <td>0.0</td>\n",
       "      <td>2</td>\n",
       "      <td>4</td>\n",
       "      <td>1</td>\n",
       "      <td>20000678</td>\n",
       "      <td>3</td>\n",
       "      <td>555</td>\n",
       "    </tr>\n",
       "  </tbody>\n",
       "</table>\n",
       "</div>"
      ],
      "text/plain": [
       "  CALL_TYPE  DAY  IS_HOSPITAL  IS_STADIUM  IS_UNIV  MON  ORIGIN_STAND  \\\n",
       "0         B    1          0.0         0.0      0.0    8          13.0   \n",
       "1         B    1          0.0         0.0      0.0    8          23.0   \n",
       "2         A    1          0.0         0.0      0.0    8           0.0   \n",
       "3         B    1          0.0         0.0      0.0    8          23.0   \n",
       "4         C    1          0.0         0.0      0.0    8           0.0   \n",
       "\n",
       "   START_HR  START_MIN  START_QTR   TAXI_ID  WK_DAY  tripTimeSec  \n",
       "0         2          1          1  20000603       3          375  \n",
       "1         2          2          1  20000372       3          510  \n",
       "2         2          3          1  20000488       3          735  \n",
       "3         2          4          1  20000686       3          750  \n",
       "4         2          4          1  20000678       3          555  "
      ]
     },
     "execution_count": 13,
     "metadata": {},
     "output_type": "execute_result"
    }
   ],
   "source": [
    "data = data[np.sort(data.columns)]\n",
    "test_data = test_data[np.sort(test_data.columns)]\n",
    "print(data.shape)\n",
    "data.head()"
   ]
  },
  {
   "cell_type": "code",
   "execution_count": 14,
   "id": "7e01ef0c",
   "metadata": {},
   "outputs": [
    {
     "name": "stdout",
     "output_type": "stream",
     "text": [
      "(320, 12)\n"
     ]
    },
    {
     "data": {
      "text/html": [
       "<div>\n",
       "<style scoped>\n",
       "    .dataframe tbody tr th:only-of-type {\n",
       "        vertical-align: middle;\n",
       "    }\n",
       "\n",
       "    .dataframe tbody tr th {\n",
       "        vertical-align: top;\n",
       "    }\n",
       "\n",
       "    .dataframe thead th {\n",
       "        text-align: right;\n",
       "    }\n",
       "</style>\n",
       "<table border=\"1\" class=\"dataframe\">\n",
       "  <thead>\n",
       "    <tr style=\"text-align: right;\">\n",
       "      <th></th>\n",
       "      <th>CALL_TYPE</th>\n",
       "      <th>DAY</th>\n",
       "      <th>IS_HOSPITAL</th>\n",
       "      <th>IS_STADIUM</th>\n",
       "      <th>IS_UNIV</th>\n",
       "      <th>MON</th>\n",
       "      <th>ORIGIN_STAND</th>\n",
       "      <th>START_HR</th>\n",
       "      <th>START_MIN</th>\n",
       "      <th>START_QTR</th>\n",
       "      <th>TAXI_ID</th>\n",
       "      <th>WK_DAY</th>\n",
       "    </tr>\n",
       "  </thead>\n",
       "  <tbody>\n",
       "    <tr>\n",
       "      <th>0</th>\n",
       "      <td>B</td>\n",
       "      <td>14</td>\n",
       "      <td>0.0</td>\n",
       "      <td>0.0</td>\n",
       "      <td>0.0</td>\n",
       "      <td>8</td>\n",
       "      <td>15.0</td>\n",
       "      <td>17</td>\n",
       "      <td>57</td>\n",
       "      <td>4</td>\n",
       "      <td>20000542</td>\n",
       "      <td>3</td>\n",
       "    </tr>\n",
       "    <tr>\n",
       "      <th>1</th>\n",
       "      <td>B</td>\n",
       "      <td>14</td>\n",
       "      <td>0.0</td>\n",
       "      <td>0.0</td>\n",
       "      <td>0.0</td>\n",
       "      <td>8</td>\n",
       "      <td>57.0</td>\n",
       "      <td>17</td>\n",
       "      <td>50</td>\n",
       "      <td>4</td>\n",
       "      <td>20000108</td>\n",
       "      <td>3</td>\n",
       "    </tr>\n",
       "    <tr>\n",
       "      <th>2</th>\n",
       "      <td>B</td>\n",
       "      <td>14</td>\n",
       "      <td>0.0</td>\n",
       "      <td>0.0</td>\n",
       "      <td>0.0</td>\n",
       "      <td>8</td>\n",
       "      <td>15.0</td>\n",
       "      <td>17</td>\n",
       "      <td>49</td>\n",
       "      <td>4</td>\n",
       "      <td>20000370</td>\n",
       "      <td>3</td>\n",
       "    </tr>\n",
       "    <tr>\n",
       "      <th>3</th>\n",
       "      <td>B</td>\n",
       "      <td>14</td>\n",
       "      <td>0.0</td>\n",
       "      <td>0.0</td>\n",
       "      <td>0.0</td>\n",
       "      <td>8</td>\n",
       "      <td>53.0</td>\n",
       "      <td>17</td>\n",
       "      <td>58</td>\n",
       "      <td>4</td>\n",
       "      <td>20000492</td>\n",
       "      <td>3</td>\n",
       "    </tr>\n",
       "    <tr>\n",
       "      <th>4</th>\n",
       "      <td>B</td>\n",
       "      <td>14</td>\n",
       "      <td>0.0</td>\n",
       "      <td>0.0</td>\n",
       "      <td>0.0</td>\n",
       "      <td>8</td>\n",
       "      <td>18.0</td>\n",
       "      <td>17</td>\n",
       "      <td>59</td>\n",
       "      <td>4</td>\n",
       "      <td>20000621</td>\n",
       "      <td>3</td>\n",
       "    </tr>\n",
       "  </tbody>\n",
       "</table>\n",
       "</div>"
      ],
      "text/plain": [
       "  CALL_TYPE  DAY  IS_HOSPITAL  IS_STADIUM  IS_UNIV  MON  ORIGIN_STAND  \\\n",
       "0         B   14          0.0         0.0      0.0    8          15.0   \n",
       "1         B   14          0.0         0.0      0.0    8          57.0   \n",
       "2         B   14          0.0         0.0      0.0    8          15.0   \n",
       "3         B   14          0.0         0.0      0.0    8          53.0   \n",
       "4         B   14          0.0         0.0      0.0    8          18.0   \n",
       "\n",
       "   START_HR  START_MIN  START_QTR   TAXI_ID  WK_DAY  \n",
       "0        17         57          4  20000542       3  \n",
       "1        17         50          4  20000108       3  \n",
       "2        17         49          4  20000370       3  \n",
       "3        17         58          4  20000492       3  \n",
       "4        17         59          4  20000621       3  "
      ]
     },
     "execution_count": 14,
     "metadata": {},
     "output_type": "execute_result"
    }
   ],
   "source": [
    "print(test_data.shape)\n",
    "test_data.head()"
   ]
  },
  {
   "cell_type": "code",
   "execution_count": 15,
   "id": "835a29f0",
   "metadata": {},
   "outputs": [],
   "source": [
    "#print(data.columns)"
   ]
  },
  {
   "cell_type": "code",
   "execution_count": 16,
   "id": "11703834",
   "metadata": {},
   "outputs": [],
   "source": [
    "def make_mapping(ser):\n",
    "    '''creates a mapping'''\n",
    "    mapping = dict(zip(ser.unique(), np.arange(len(ser.unique()))))\n",
    "    return mapping\n",
    "\n",
    "def encode(ser, mapping):\n",
    "    '''encodes a series based on a given mapping '''\n",
    "    return ser.map(mapping)\n",
    "\n",
    "\n",
    "encode_cols = ['CALL_TYPE', 'ORIGIN_STAND', 'TAXI_ID', 'IS_HOSPITAL', 'IS_STADIUM', 'IS_UNIV']\n",
    "\n",
    "for col in encode_cols:\n",
    "    dat_col = data[col]\n",
    "    test_col = test_data[col]\n",
    "    \n",
    "    # make sure the test and the train data have the same mapping!\n",
    "    combined = pd.concat([dat_col, test_col])\n",
    "    \n",
    "    # prevent weird encoding imbalance if there are some encodings that appear in \n",
    "    # one but not the other\n",
    "    combined = combined.sample(frac=1)\n",
    "    \n",
    "    mapping = make_mapping(combined)\n",
    "    \n",
    "    data[col] = encode(dat_col, mapping)\n",
    "    test_data[col] = encode(test_col, mapping)\n",
    "\n"
   ]
  },
  {
   "cell_type": "code",
   "execution_count": 17,
   "id": "e5854514",
   "metadata": {},
   "outputs": [
    {
     "data": {
      "text/html": [
       "<div>\n",
       "<style scoped>\n",
       "    .dataframe tbody tr th:only-of-type {\n",
       "        vertical-align: middle;\n",
       "    }\n",
       "\n",
       "    .dataframe tbody tr th {\n",
       "        vertical-align: top;\n",
       "    }\n",
       "\n",
       "    .dataframe thead th {\n",
       "        text-align: right;\n",
       "    }\n",
       "</style>\n",
       "<table border=\"1\" class=\"dataframe\">\n",
       "  <thead>\n",
       "    <tr style=\"text-align: right;\">\n",
       "      <th></th>\n",
       "      <th>CALL_TYPE</th>\n",
       "      <th>DAY</th>\n",
       "      <th>IS_HOSPITAL</th>\n",
       "      <th>IS_STADIUM</th>\n",
       "      <th>IS_UNIV</th>\n",
       "      <th>MON</th>\n",
       "      <th>ORIGIN_STAND</th>\n",
       "      <th>START_HR</th>\n",
       "      <th>START_MIN</th>\n",
       "      <th>START_QTR</th>\n",
       "      <th>TAXI_ID</th>\n",
       "      <th>WK_DAY</th>\n",
       "      <th>tripTimeSec</th>\n",
       "    </tr>\n",
       "  </thead>\n",
       "  <tbody>\n",
       "    <tr>\n",
       "      <th>0</th>\n",
       "      <td>0</td>\n",
       "      <td>1</td>\n",
       "      <td>0</td>\n",
       "      <td>0</td>\n",
       "      <td>0</td>\n",
       "      <td>8</td>\n",
       "      <td>25</td>\n",
       "      <td>2</td>\n",
       "      <td>1</td>\n",
       "      <td>1</td>\n",
       "      <td>212</td>\n",
       "      <td>3</td>\n",
       "      <td>375</td>\n",
       "    </tr>\n",
       "    <tr>\n",
       "      <th>1</th>\n",
       "      <td>0</td>\n",
       "      <td>1</td>\n",
       "      <td>0</td>\n",
       "      <td>0</td>\n",
       "      <td>0</td>\n",
       "      <td>8</td>\n",
       "      <td>11</td>\n",
       "      <td>2</td>\n",
       "      <td>2</td>\n",
       "      <td>1</td>\n",
       "      <td>81</td>\n",
       "      <td>3</td>\n",
       "      <td>510</td>\n",
       "    </tr>\n",
       "    <tr>\n",
       "      <th>2</th>\n",
       "      <td>2</td>\n",
       "      <td>1</td>\n",
       "      <td>0</td>\n",
       "      <td>0</td>\n",
       "      <td>0</td>\n",
       "      <td>8</td>\n",
       "      <td>2</td>\n",
       "      <td>2</td>\n",
       "      <td>3</td>\n",
       "      <td>1</td>\n",
       "      <td>100</td>\n",
       "      <td>3</td>\n",
       "      <td>735</td>\n",
       "    </tr>\n",
       "    <tr>\n",
       "      <th>3</th>\n",
       "      <td>0</td>\n",
       "      <td>1</td>\n",
       "      <td>0</td>\n",
       "      <td>0</td>\n",
       "      <td>0</td>\n",
       "      <td>8</td>\n",
       "      <td>11</td>\n",
       "      <td>2</td>\n",
       "      <td>4</td>\n",
       "      <td>1</td>\n",
       "      <td>43</td>\n",
       "      <td>3</td>\n",
       "      <td>750</td>\n",
       "    </tr>\n",
       "    <tr>\n",
       "      <th>4</th>\n",
       "      <td>1</td>\n",
       "      <td>1</td>\n",
       "      <td>0</td>\n",
       "      <td>0</td>\n",
       "      <td>0</td>\n",
       "      <td>8</td>\n",
       "      <td>2</td>\n",
       "      <td>2</td>\n",
       "      <td>4</td>\n",
       "      <td>1</td>\n",
       "      <td>36</td>\n",
       "      <td>3</td>\n",
       "      <td>555</td>\n",
       "    </tr>\n",
       "  </tbody>\n",
       "</table>\n",
       "</div>"
      ],
      "text/plain": [
       "   CALL_TYPE  DAY  IS_HOSPITAL  IS_STADIUM  IS_UNIV  MON  ORIGIN_STAND  \\\n",
       "0          0    1            0           0        0    8            25   \n",
       "1          0    1            0           0        0    8            11   \n",
       "2          2    1            0           0        0    8             2   \n",
       "3          0    1            0           0        0    8            11   \n",
       "4          1    1            0           0        0    8             2   \n",
       "\n",
       "   START_HR  START_MIN  START_QTR  TAXI_ID  WK_DAY  tripTimeSec  \n",
       "0         2          1          1      212       3          375  \n",
       "1         2          2          1       81       3          510  \n",
       "2         2          3          1      100       3          735  \n",
       "3         2          4          1       43       3          750  \n",
       "4         2          4          1       36       3          555  "
      ]
     },
     "execution_count": 17,
     "metadata": {},
     "output_type": "execute_result"
    }
   ],
   "source": [
    "data.head()"
   ]
  },
  {
   "cell_type": "code",
   "execution_count": 18,
   "id": "899ad673",
   "metadata": {},
   "outputs": [
    {
     "data": {
      "text/html": [
       "<div>\n",
       "<style scoped>\n",
       "    .dataframe tbody tr th:only-of-type {\n",
       "        vertical-align: middle;\n",
       "    }\n",
       "\n",
       "    .dataframe tbody tr th {\n",
       "        vertical-align: top;\n",
       "    }\n",
       "\n",
       "    .dataframe thead th {\n",
       "        text-align: right;\n",
       "    }\n",
       "</style>\n",
       "<table border=\"1\" class=\"dataframe\">\n",
       "  <thead>\n",
       "    <tr style=\"text-align: right;\">\n",
       "      <th></th>\n",
       "      <th>CALL_TYPE</th>\n",
       "      <th>DAY</th>\n",
       "      <th>IS_HOSPITAL</th>\n",
       "      <th>IS_STADIUM</th>\n",
       "      <th>IS_UNIV</th>\n",
       "      <th>MON</th>\n",
       "      <th>ORIGIN_STAND</th>\n",
       "      <th>START_HR</th>\n",
       "      <th>START_MIN</th>\n",
       "      <th>START_QTR</th>\n",
       "      <th>TAXI_ID</th>\n",
       "      <th>WK_DAY</th>\n",
       "    </tr>\n",
       "  </thead>\n",
       "  <tbody>\n",
       "    <tr>\n",
       "      <th>0</th>\n",
       "      <td>0</td>\n",
       "      <td>14</td>\n",
       "      <td>0</td>\n",
       "      <td>0</td>\n",
       "      <td>0</td>\n",
       "      <td>8</td>\n",
       "      <td>4</td>\n",
       "      <td>17</td>\n",
       "      <td>57</td>\n",
       "      <td>4</td>\n",
       "      <td>11</td>\n",
       "      <td>3</td>\n",
       "    </tr>\n",
       "    <tr>\n",
       "      <th>1</th>\n",
       "      <td>0</td>\n",
       "      <td>14</td>\n",
       "      <td>0</td>\n",
       "      <td>0</td>\n",
       "      <td>0</td>\n",
       "      <td>8</td>\n",
       "      <td>12</td>\n",
       "      <td>17</td>\n",
       "      <td>50</td>\n",
       "      <td>4</td>\n",
       "      <td>48</td>\n",
       "      <td>3</td>\n",
       "    </tr>\n",
       "    <tr>\n",
       "      <th>2</th>\n",
       "      <td>0</td>\n",
       "      <td>14</td>\n",
       "      <td>0</td>\n",
       "      <td>0</td>\n",
       "      <td>0</td>\n",
       "      <td>8</td>\n",
       "      <td>4</td>\n",
       "      <td>17</td>\n",
       "      <td>49</td>\n",
       "      <td>4</td>\n",
       "      <td>2</td>\n",
       "      <td>3</td>\n",
       "    </tr>\n",
       "    <tr>\n",
       "      <th>3</th>\n",
       "      <td>0</td>\n",
       "      <td>14</td>\n",
       "      <td>0</td>\n",
       "      <td>0</td>\n",
       "      <td>0</td>\n",
       "      <td>8</td>\n",
       "      <td>3</td>\n",
       "      <td>17</td>\n",
       "      <td>58</td>\n",
       "      <td>4</td>\n",
       "      <td>196</td>\n",
       "      <td>3</td>\n",
       "    </tr>\n",
       "    <tr>\n",
       "      <th>4</th>\n",
       "      <td>0</td>\n",
       "      <td>14</td>\n",
       "      <td>0</td>\n",
       "      <td>0</td>\n",
       "      <td>0</td>\n",
       "      <td>8</td>\n",
       "      <td>29</td>\n",
       "      <td>17</td>\n",
       "      <td>59</td>\n",
       "      <td>4</td>\n",
       "      <td>175</td>\n",
       "      <td>3</td>\n",
       "    </tr>\n",
       "  </tbody>\n",
       "</table>\n",
       "</div>"
      ],
      "text/plain": [
       "   CALL_TYPE  DAY  IS_HOSPITAL  IS_STADIUM  IS_UNIV  MON  ORIGIN_STAND  \\\n",
       "0          0   14            0           0        0    8             4   \n",
       "1          0   14            0           0        0    8            12   \n",
       "2          0   14            0           0        0    8             4   \n",
       "3          0   14            0           0        0    8             3   \n",
       "4          0   14            0           0        0    8            29   \n",
       "\n",
       "   START_HR  START_MIN  START_QTR  TAXI_ID  WK_DAY  \n",
       "0        17         57          4       11       3  \n",
       "1        17         50          4       48       3  \n",
       "2        17         49          4        2       3  \n",
       "3        17         58          4      196       3  \n",
       "4        17         59          4      175       3  "
      ]
     },
     "execution_count": 18,
     "metadata": {},
     "output_type": "execute_result"
    }
   ],
   "source": [
    "test_data.head()"
   ]
  },
  {
   "cell_type": "code",
   "execution_count": 19,
   "id": "96388930",
   "metadata": {},
   "outputs": [],
   "source": [
    "test_data.to_csv('test_cleaned.csv', index=False)"
   ]
  },
  {
   "cell_type": "code",
   "execution_count": 20,
   "id": "be775ac3",
   "metadata": {},
   "outputs": [],
   "source": [
    "#['CALL_TYPE', 'DAY', 'IS_HOSPITAL', 'IS_STADIUM', 'IS_UNIV', 'MON',\n",
    " #      'ORIGIN_STAND', 'START_HR', 'START_MIN', 'START_QTR', 'TAXI_ID',\n",
    "  #     'WK_DAY', 'tripTimeSec']"
   ]
  },
  {
   "cell_type": "code",
   "execution_count": 21,
   "id": "6bb38e67",
   "metadata": {},
   "outputs": [
    {
     "name": "stdout",
     "output_type": "stream",
     "text": [
      "(217956, 10)\n"
     ]
    }
   ],
   "source": [
    "# Create X and y for train and test!\n",
    "selected_cols = ['CALL_TYPE', 'IS_HOSPITAL', 'IS_STADIUM', 'IS_UNIV', 'TAXI_ID', 'DAY', 'MON','START_HR', 'START_QTR', 'WK_DAY']\n",
    "#data = data.sample(frac = 0.5)\n",
    "X = data.drop(['tripTimeSec'],axis=1)[selected_cols].values\n",
    "y = data['tripTimeSec'].values\n",
    "DAT_FEATURES = X.shape[1]\n",
    "print(X.shape)\n",
    "# DO NOT SHUFFLE!\n",
    "X_test = test_data[selected_cols].values"
   ]
  },
  {
   "cell_type": "code",
   "execution_count": 22,
   "id": "d046a442",
   "metadata": {},
   "outputs": [],
   "source": [
    "#len(np.unique(y, return_counts=True)[0])"
   ]
  },
  {
   "cell_type": "code",
   "execution_count": 23,
   "id": "1a14362d",
   "metadata": {},
   "outputs": [],
   "source": [
    "# PredictorScaler=StandardScaler()\n",
    "# TargetVarScaler=StandardScaler()\n",
    " \n",
    "# # Storing the fit object for later reference\n",
    "# PredictorScalerFit=PredictorScaler.fit(X)\n",
    "# TargetVarScalerFit=TargetVarScaler.fit(y.reshape(-1, 1))\n",
    "\n",
    "# X=PredictorScalerFit.transform(X)\n",
    "# y=TargetVarScalerFit.transform(y.reshape(-1, 1))"
   ]
  },
  {
   "cell_type": "code",
   "execution_count": 24,
   "id": "4b626727",
   "metadata": {},
   "outputs": [],
   "source": [
    "class MyModel(nn.Module):\n",
    "    def __init__(self):\n",
    "        super(MyModel, self).__init__()\n",
    "        self.fc1 = nn.Linear(DAT_FEATURES, 256)\n",
    "        self.fc2 = nn.Linear(256, 512)\n",
    "        self.fc3 = nn.Linear(512, 16)\n",
    "        self.fc4 = nn.Linear(16, 1)\n",
    "        self.dropout2 = nn.Dropout(p=0.2)\n",
    "        self.dropout3 = nn.Dropout(p=0.3)\n",
    "        self.dropout4 = nn.Dropout(p=0.4)\n",
    "        self.dropout5 = nn.Dropout(p=0.1)\n",
    "        self.batchNorm12 = nn.BatchNorm1d(256)\n",
    "        self.batchNorm23 = nn.BatchNorm1d(1024)\n",
    "        self.batchNorm34 = nn.BatchNorm1d(64)\n",
    "        self.relu = nn.ReLU()\n",
    "\n",
    "    def forward(self, x):\n",
    "        x = self.relu(self.fc1(x))\n",
    "        #x = self.batchNorm12(x)\n",
    "        x = self.dropout5(x)\n",
    "        x = self.relu(self.fc2(x))\n",
    "        #x = self.batchNorm23(x)\n",
    "        #x = self.dropout2(x)\n",
    "        x = self.relu(self.fc3(x))\n",
    "        #x = self.batchNorm34(x)\n",
    "        #x = self.dropout5(x)\n",
    "        x = self.fc4(x)\n",
    "        return x\n"
   ]
  },
  {
   "cell_type": "code",
   "execution_count": 25,
   "id": "4668fd8b",
   "metadata": {},
   "outputs": [
    {
     "name": "stdout",
     "output_type": "stream",
     "text": [
      "145313\n"
     ]
    }
   ],
   "source": [
    "def count_parameters(model):\n",
    "    return sum(p.numel() for p in model.parameters())\n",
    "model = MyModel()#.cuda()\n",
    "print(count_parameters(model))"
   ]
  },
  {
   "cell_type": "code",
   "execution_count": 26,
   "id": "c8cc6792",
   "metadata": {},
   "outputs": [
    {
     "name": "stdout",
     "output_type": "stream",
     "text": [
      "(213596, 10)\n",
      "(4360, 10)\n",
      "(213596,)\n",
      "(4360,)\n"
     ]
    }
   ],
   "source": [
    "import torch\n",
    "from torch.utils.data import DataLoader, Dataset\n",
    "\n",
    "#Define your custom dataset\n",
    "class MyDataset(Dataset):\n",
    "    def __init__(self, data, labels):\n",
    "        self.data = data\n",
    "        self.labels = labels\n",
    "\n",
    "    def __getitem__(self, index):\n",
    "        x = self.data[index]\n",
    "        y = self.labels[index]\n",
    "        return x, y\n",
    "\n",
    "    def __len__(self):\n",
    "        return len(self.data)\n",
    "\n",
    "#Assuming you have your data and labels as numpy arrays or tensors\n",
    "#Create an instance of your dataset\n",
    "X_train, X_val, y_train, y_val = train_test_split(X, y, train_size = 0.98)\n",
    "print(X_train.shape)\n",
    "print(X_val.shape)\n",
    "print(y_train.shape)\n",
    "print(y_val.shape)\n",
    "dataset_train = MyDataset(X_train, y_train)\n",
    "dataset_val = MyDataset(X_val, y_val)\n",
    "\n",
    "#Define the batch size for training and validation\n",
    "batch_size = 200\n",
    "\n",
    "\n",
    "#Create the dataloaders\n",
    "dataloader = DataLoader(dataset_train, batch_size=batch_size, shuffle=True)  # For training\n",
    "validation_dataloader = DataLoader(dataset_val, batch_size=batch_size, shuffle=False)  # For validation\n"
   ]
  },
  {
   "cell_type": "code",
   "execution_count": 27,
   "id": "a9019a12",
   "metadata": {},
   "outputs": [
    {
     "name": "stdout",
     "output_type": "stream",
     "text": [
      "717.9743300436338\n",
      "413.7303443029251\n",
      "2775\n"
     ]
    },
    {
     "data": {
      "image/png": "[encoded data removed]",
      "text/plain": [
       "<Figure size 432x288 with 1 Axes>"
      ]
     },
     "metadata": {
      "needs_background": "light"
     },
     "output_type": "display_data"
    }
   ],
   "source": [
    "sns.histplot(y_train)\n",
    "print(y_train.mean())\n",
    "print(y_train.std())\n",
    "print(np.amax(y_train))"
   ]
  },
  {
   "cell_type": "code",
   "execution_count": 28,
   "id": "c490aee6",
   "metadata": {},
   "outputs": [
    {
     "name": "stdout",
     "output_type": "stream",
     "text": [
      "727.052752293578\n",
      "417.8890753863844\n",
      "2760\n"
     ]
    },
    {
     "data": {
      "image/png": "[encoded data removed]",
      "text/plain": [
       "<Figure size 432x288 with 1 Axes>"
      ]
     },
     "metadata": {
      "needs_background": "light"
     },
     "output_type": "display_data"
    }
   ],
   "source": [
    "sns.histplot(y_val)\n",
    "print(y_val.mean())\n",
    "print(y_val.std())\n",
    "print(np.amax(y_val))"
   ]
  },
  {
   "cell_type": "code",
   "execution_count": 29,
   "id": "eb7d5c12",
   "metadata": {
    "scrolled": false
   },
   "outputs": [
    {
     "name": "stderr",
     "output_type": "stream",
     "text": [
      "  1%|          | 1/100 [00:03<06:21,  3.85s/it]"
     ]
    },
    {
     "name": "stdout",
     "output_type": "stream",
     "text": [
      "Epoch 1/100: Training Loss: 424.3393, \\         Validation Loss: 411.6380\n"
     ]
    },
    {
     "name": "stderr",
     "output_type": "stream",
     "text": [
      "  2%|▏         | 2/100 [00:06<05:30,  3.38s/it]"
     ]
    },
    {
     "name": "stdout",
     "output_type": "stream",
     "text": [
      "Epoch 2/100: Training Loss: 409.2148, \\         Validation Loss: 411.0740\n"
     ]
    },
    {
     "name": "stderr",
     "output_type": "stream",
     "text": [
      "  3%|▎         | 3/100 [00:10<05:16,  3.26s/it]"
     ]
    },
    {
     "name": "stdout",
     "output_type": "stream",
     "text": [
      "Epoch 3/100: Training Loss: 408.9782, \\         Validation Loss: 410.8952\n"
     ]
    },
    {
     "name": "stderr",
     "output_type": "stream",
     "text": [
      "  4%|▍         | 4/100 [00:13<05:17,  3.30s/it]"
     ]
    },
    {
     "name": "stdout",
     "output_type": "stream",
     "text": [
      "Epoch 4/100: Training Loss: 408.5693, \\         Validation Loss: 409.9523\n"
     ]
    },
    {
     "name": "stderr",
     "output_type": "stream",
     "text": [
      "  5%|▌         | 5/100 [00:16<05:23,  3.40s/it]"
     ]
    },
    {
     "name": "stdout",
     "output_type": "stream",
     "text": [
      "Epoch 5/100: Training Loss: 408.1830, \\         Validation Loss: 410.0385\n"
     ]
    },
    {
     "name": "stderr",
     "output_type": "stream",
     "text": [
      "  6%|▌         | 6/100 [00:20<05:18,  3.39s/it]"
     ]
    },
    {
     "name": "stdout",
     "output_type": "stream",
     "text": [
      "Epoch 6/100: Training Loss: 408.0193, \\         Validation Loss: 410.1667\n"
     ]
    },
    {
     "name": "stderr",
     "output_type": "stream",
     "text": [
      "  7%|▋         | 7/100 [00:23<05:14,  3.38s/it]"
     ]
    },
    {
     "name": "stdout",
     "output_type": "stream",
     "text": [
      "Epoch 7/100: Training Loss: 407.8355, \\         Validation Loss: 409.8796\n"
     ]
    },
    {
     "name": "stderr",
     "output_type": "stream",
     "text": [
      "  8%|▊         | 8/100 [00:26<05:04,  3.31s/it]"
     ]
    },
    {
     "name": "stdout",
     "output_type": "stream",
     "text": [
      "Epoch 8/100: Training Loss: 407.6296, \\         Validation Loss: 409.3380\n"
     ]
    },
    {
     "name": "stderr",
     "output_type": "stream",
     "text": [
      "  9%|▉         | 9/100 [00:30<05:02,  3.33s/it]"
     ]
    },
    {
     "name": "stdout",
     "output_type": "stream",
     "text": [
      "Epoch 9/100: Training Loss: 407.6120, \\         Validation Loss: 409.2037\n"
     ]
    },
    {
     "name": "stderr",
     "output_type": "stream",
     "text": [
      " 10%|█         | 10/100 [00:33<04:59,  3.33s/it]"
     ]
    },
    {
     "name": "stdout",
     "output_type": "stream",
     "text": [
      "Epoch 10/100: Training Loss: 407.4373, \\         Validation Loss: 410.2749\n"
     ]
    },
    {
     "name": "stderr",
     "output_type": "stream",
     "text": [
      " 11%|█         | 11/100 [00:36<04:37,  3.12s/it]"
     ]
    },
    {
     "name": "stdout",
     "output_type": "stream",
     "text": [
      "Epoch 11/100: Training Loss: 407.5434, \\         Validation Loss: 408.6266\n"
     ]
    },
    {
     "name": "stderr",
     "output_type": "stream",
     "text": [
      " 12%|█▏        | 12/100 [00:39<04:29,  3.06s/it]"
     ]
    },
    {
     "name": "stdout",
     "output_type": "stream",
     "text": [
      "Epoch 12/100: Training Loss: 406.7885, \\         Validation Loss: 408.7122\n"
     ]
    },
    {
     "name": "stderr",
     "output_type": "stream",
     "text": [
      " 13%|█▎        | 13/100 [00:42<04:34,  3.15s/it]"
     ]
    },
    {
     "name": "stdout",
     "output_type": "stream",
     "text": [
      "Epoch 13/100: Training Loss: 406.9471, \\         Validation Loss: 408.0358\n"
     ]
    },
    {
     "name": "stderr",
     "output_type": "stream",
     "text": [
      " 14%|█▍        | 14/100 [00:45<04:39,  3.25s/it]"
     ]
    },
    {
     "name": "stdout",
     "output_type": "stream",
     "text": [
      "Epoch 14/100: Training Loss: 406.7314, \\         Validation Loss: 408.2014\n"
     ]
    },
    {
     "name": "stderr",
     "output_type": "stream",
     "text": [
      " 15%|█▌        | 15/100 [00:49<04:42,  3.32s/it]"
     ]
    },
    {
     "name": "stdout",
     "output_type": "stream",
     "text": [
      "Epoch 15/100: Training Loss: 406.4569, \\         Validation Loss: 407.7705\n"
     ]
    },
    {
     "name": "stderr",
     "output_type": "stream",
     "text": [
      " 16%|█▌        | 16/100 [00:53<04:45,  3.40s/it]"
     ]
    },
    {
     "name": "stdout",
     "output_type": "stream",
     "text": [
      "Epoch 16/100: Training Loss: 406.3717, \\         Validation Loss: 408.4173\n"
     ]
    },
    {
     "name": "stderr",
     "output_type": "stream",
     "text": [
      " 17%|█▋        | 17/100 [00:56<04:42,  3.40s/it]"
     ]
    },
    {
     "name": "stdout",
     "output_type": "stream",
     "text": [
      "Epoch 17/100: Training Loss: 406.1282, \\         Validation Loss: 407.4112\n"
     ]
    },
    {
     "name": "stderr",
     "output_type": "stream",
     "text": [
      " 18%|█▊        | 18/100 [00:59<04:39,  3.41s/it]"
     ]
    },
    {
     "name": "stdout",
     "output_type": "stream",
     "text": [
      "Epoch 18/100: Training Loss: 405.9024, \\         Validation Loss: 407.7816\n"
     ]
    },
    {
     "name": "stderr",
     "output_type": "stream",
     "text": [
      " 19%|█▉        | 19/100 [01:03<04:36,  3.41s/it]"
     ]
    },
    {
     "name": "stdout",
     "output_type": "stream",
     "text": [
      "Epoch 19/100: Training Loss: 405.8730, \\         Validation Loss: 409.4164\n"
     ]
    },
    {
     "name": "stderr",
     "output_type": "stream",
     "text": [
      " 20%|██        | 20/100 [01:06<04:27,  3.35s/it]"
     ]
    },
    {
     "name": "stdout",
     "output_type": "stream",
     "text": [
      "Epoch 20/100: Training Loss: 405.7539, \\         Validation Loss: 407.4203\n"
     ]
    },
    {
     "name": "stderr",
     "output_type": "stream",
     "text": [
      " 21%|██        | 21/100 [01:09<04:17,  3.26s/it]"
     ]
    },
    {
     "name": "stdout",
     "output_type": "stream",
     "text": [
      "Epoch 21/100: Training Loss: 405.5069, \\         Validation Loss: 407.2259\n"
     ]
    },
    {
     "name": "stderr",
     "output_type": "stream",
     "text": [
      " 22%|██▏       | 22/100 [01:12<04:06,  3.17s/it]"
     ]
    },
    {
     "name": "stdout",
     "output_type": "stream",
     "text": [
      "Epoch 22/100: Training Loss: 405.3740, \\         Validation Loss: 407.1467\n"
     ]
    },
    {
     "name": "stderr",
     "output_type": "stream",
     "text": [
      " 23%|██▎       | 23/100 [01:15<04:09,  3.23s/it]"
     ]
    },
    {
     "name": "stdout",
     "output_type": "stream",
     "text": [
      "Epoch 23/100: Training Loss: 405.4478, \\         Validation Loss: 406.9824\n"
     ]
    },
    {
     "name": "stderr",
     "output_type": "stream",
     "text": [
      " 24%|██▍       | 24/100 [01:19<04:12,  3.32s/it]"
     ]
    },
    {
     "name": "stdout",
     "output_type": "stream",
     "text": [
      "Epoch 24/100: Training Loss: 405.3406, \\         Validation Loss: 407.2294\n"
     ]
    },
    {
     "name": "stderr",
     "output_type": "stream",
     "text": [
      " 25%|██▌       | 25/100 [01:22<04:13,  3.38s/it]"
     ]
    },
    {
     "name": "stdout",
     "output_type": "stream",
     "text": [
      "Epoch 25/100: Training Loss: 405.2067, \\         Validation Loss: 405.9448\n"
     ]
    },
    {
     "name": "stderr",
     "output_type": "stream",
     "text": [
      " 26%|██▌       | 26/100 [01:26<04:12,  3.41s/it]"
     ]
    },
    {
     "name": "stdout",
     "output_type": "stream",
     "text": [
      "Epoch 26/100: Training Loss: 405.0758, \\         Validation Loss: 406.2896\n"
     ]
    },
    {
     "name": "stderr",
     "output_type": "stream",
     "text": [
      " 27%|██▋       | 27/100 [01:29<04:11,  3.44s/it]"
     ]
    },
    {
     "name": "stdout",
     "output_type": "stream",
     "text": [
      "Epoch 27/100: Training Loss: 405.1147, \\         Validation Loss: 408.6770\n"
     ]
    },
    {
     "name": "stderr",
     "output_type": "stream",
     "text": [
      " 28%|██▊       | 28/100 [01:33<04:03,  3.39s/it]"
     ]
    },
    {
     "name": "stdout",
     "output_type": "stream",
     "text": [
      "Epoch 28/100: Training Loss: 404.8905, \\         Validation Loss: 408.0072\n"
     ]
    },
    {
     "name": "stderr",
     "output_type": "stream",
     "text": [
      " 29%|██▉       | 29/100 [01:36<04:07,  3.49s/it]"
     ]
    },
    {
     "name": "stdout",
     "output_type": "stream",
     "text": [
      "Epoch 29/100: Training Loss: 404.8693, \\         Validation Loss: 405.7659\n"
     ]
    },
    {
     "name": "stderr",
     "output_type": "stream",
     "text": [
      " 30%|███       | 30/100 [01:40<04:07,  3.54s/it]"
     ]
    },
    {
     "name": "stdout",
     "output_type": "stream",
     "text": [
      "Epoch 30/100: Training Loss: 404.6976, \\         Validation Loss: 406.2722\n"
     ]
    },
    {
     "name": "stderr",
     "output_type": "stream",
     "text": [
      " 31%|███       | 31/100 [01:43<03:58,  3.45s/it]"
     ]
    },
    {
     "name": "stdout",
     "output_type": "stream",
     "text": [
      "Epoch 31/100: Training Loss: 404.5847, \\         Validation Loss: 405.7051\n"
     ]
    },
    {
     "name": "stderr",
     "output_type": "stream",
     "text": [
      " 32%|███▏      | 32/100 [01:47<03:52,  3.42s/it]"
     ]
    },
    {
     "name": "stdout",
     "output_type": "stream",
     "text": [
      "Epoch 32/100: Training Loss: 404.4919, \\         Validation Loss: 405.1259\n"
     ]
    },
    {
     "name": "stderr",
     "output_type": "stream",
     "text": [
      " 33%|███▎      | 33/100 [01:50<03:53,  3.48s/it]"
     ]
    },
    {
     "name": "stdout",
     "output_type": "stream",
     "text": [
      "Epoch 33/100: Training Loss: 404.5038, \\         Validation Loss: 407.2323\n"
     ]
    },
    {
     "name": "stderr",
     "output_type": "stream",
     "text": [
      " 34%|███▍      | 34/100 [01:54<03:50,  3.49s/it]"
     ]
    },
    {
     "name": "stdout",
     "output_type": "stream",
     "text": [
      "Epoch 34/100: Training Loss: 404.3945, \\         Validation Loss: 405.6655\n"
     ]
    },
    {
     "name": "stderr",
     "output_type": "stream",
     "text": [
      " 35%|███▌      | 35/100 [01:57<03:44,  3.46s/it]"
     ]
    },
    {
     "name": "stdout",
     "output_type": "stream",
     "text": [
      "Epoch 35/100: Training Loss: 404.2833, \\         Validation Loss: 405.2079\n"
     ]
    },
    {
     "name": "stderr",
     "output_type": "stream",
     "text": [
      " 36%|███▌      | 36/100 [02:01<03:41,  3.45s/it]"
     ]
    },
    {
     "name": "stdout",
     "output_type": "stream",
     "text": [
      "Epoch 36/100: Training Loss: 404.0247, \\         Validation Loss: 405.3151\n"
     ]
    },
    {
     "name": "stderr",
     "output_type": "stream",
     "text": [
      " 37%|███▋      | 37/100 [02:04<03:38,  3.47s/it]"
     ]
    },
    {
     "name": "stdout",
     "output_type": "stream",
     "text": [
      "Epoch 37/100: Training Loss: 404.1064, \\         Validation Loss: 405.0794\n"
     ]
    },
    {
     "name": "stderr",
     "output_type": "stream",
     "text": [
      " 38%|███▊      | 38/100 [02:08<03:37,  3.51s/it]"
     ]
    },
    {
     "name": "stdout",
     "output_type": "stream",
     "text": [
      "Epoch 38/100: Training Loss: 404.0322, \\         Validation Loss: 405.1254\n"
     ]
    },
    {
     "name": "stderr",
     "output_type": "stream",
     "text": [
      " 39%|███▉      | 39/100 [02:11<03:30,  3.45s/it]"
     ]
    },
    {
     "name": "stdout",
     "output_type": "stream",
     "text": [
      "Epoch 39/100: Training Loss: 404.1071, \\         Validation Loss: 405.0974\n"
     ]
    },
    {
     "name": "stderr",
     "output_type": "stream",
     "text": [
      " 40%|████      | 40/100 [02:14<03:24,  3.40s/it]"
     ]
    },
    {
     "name": "stdout",
     "output_type": "stream",
     "text": [
      "Epoch 40/100: Training Loss: 404.1561, \\         Validation Loss: 407.2073\n"
     ]
    },
    {
     "name": "stderr",
     "output_type": "stream",
     "text": [
      " 41%|████      | 41/100 [02:18<03:25,  3.48s/it]"
     ]
    },
    {
     "name": "stdout",
     "output_type": "stream",
     "text": [
      "Epoch 41/100: Training Loss: 403.6808, \\         Validation Loss: 404.9013\n"
     ]
    },
    {
     "name": "stderr",
     "output_type": "stream",
     "text": [
      " 42%|████▏     | 42/100 [02:21<03:19,  3.43s/it]"
     ]
    },
    {
     "name": "stdout",
     "output_type": "stream",
     "text": [
      "Epoch 42/100: Training Loss: 403.8310, \\         Validation Loss: 404.9472\n"
     ]
    },
    {
     "name": "stderr",
     "output_type": "stream",
     "text": [
      " 43%|████▎     | 43/100 [02:25<03:17,  3.46s/it]"
     ]
    },
    {
     "name": "stdout",
     "output_type": "stream",
     "text": [
      "Epoch 43/100: Training Loss: 403.9794, \\         Validation Loss: 405.8450\n"
     ]
    },
    {
     "name": "stderr",
     "output_type": "stream",
     "text": [
      " 44%|████▍     | 44/100 [02:28<03:08,  3.36s/it]"
     ]
    },
    {
     "name": "stdout",
     "output_type": "stream",
     "text": [
      "Epoch 44/100: Training Loss: 403.8582, \\         Validation Loss: 406.1382\n"
     ]
    },
    {
     "name": "stderr",
     "output_type": "stream",
     "text": [
      " 45%|████▌     | 45/100 [02:31<03:05,  3.38s/it]"
     ]
    },
    {
     "name": "stdout",
     "output_type": "stream",
     "text": [
      "Epoch 45/100: Training Loss: 403.8688, \\         Validation Loss: 404.7168\n"
     ]
    },
    {
     "name": "stderr",
     "output_type": "stream",
     "text": [
      " 46%|████▌     | 46/100 [02:35<03:02,  3.39s/it]"
     ]
    },
    {
     "name": "stdout",
     "output_type": "stream",
     "text": [
      "Epoch 46/100: Training Loss: 403.7105, \\         Validation Loss: 404.8826\n"
     ]
    },
    {
     "name": "stderr",
     "output_type": "stream",
     "text": [
      " 47%|████▋     | 47/100 [02:38<03:02,  3.43s/it]"
     ]
    },
    {
     "name": "stdout",
     "output_type": "stream",
     "text": [
      "Epoch 47/100: Training Loss: 403.7673, \\         Validation Loss: 405.6444\n"
     ]
    },
    {
     "name": "stderr",
     "output_type": "stream",
     "text": [
      " 48%|████▊     | 48/100 [02:41<02:53,  3.33s/it]"
     ]
    },
    {
     "name": "stdout",
     "output_type": "stream",
     "text": [
      "Epoch 48/100: Training Loss: 403.5503, \\         Validation Loss: 404.5835\n"
     ]
    },
    {
     "name": "stderr",
     "output_type": "stream",
     "text": [
      " 49%|████▉     | 49/100 [02:45<02:50,  3.35s/it]"
     ]
    },
    {
     "name": "stdout",
     "output_type": "stream",
     "text": [
      "Epoch 49/100: Training Loss: 403.5687, \\         Validation Loss: 405.1600\n"
     ]
    },
    {
     "name": "stderr",
     "output_type": "stream",
     "text": [
      " 50%|█████     | 50/100 [02:48<02:50,  3.40s/it]"
     ]
    },
    {
     "name": "stdout",
     "output_type": "stream",
     "text": [
      "Epoch 50/100: Training Loss: 403.5433, \\         Validation Loss: 404.4564\n"
     ]
    },
    {
     "name": "stderr",
     "output_type": "stream",
     "text": [
      " 51%|█████     | 51/100 [02:51<02:41,  3.30s/it]"
     ]
    },
    {
     "name": "stdout",
     "output_type": "stream",
     "text": [
      "Epoch 51/100: Training Loss: 403.6350, \\         Validation Loss: 407.9778\n"
     ]
    },
    {
     "name": "stderr",
     "output_type": "stream",
     "text": [
      " 52%|█████▏    | 52/100 [02:55<02:36,  3.26s/it]"
     ]
    },
    {
     "name": "stdout",
     "output_type": "stream",
     "text": [
      "Epoch 52/100: Training Loss: 403.6552, \\         Validation Loss: 404.3126\n"
     ]
    },
    {
     "name": "stderr",
     "output_type": "stream",
     "text": [
      " 53%|█████▎    | 53/100 [02:58<02:32,  3.24s/it]"
     ]
    },
    {
     "name": "stdout",
     "output_type": "stream",
     "text": [
      "Epoch 53/100: Training Loss: 403.5208, \\         Validation Loss: 405.2642\n"
     ]
    },
    {
     "name": "stderr",
     "output_type": "stream",
     "text": [
      " 54%|█████▍    | 54/100 [03:01<02:29,  3.25s/it]"
     ]
    },
    {
     "name": "stdout",
     "output_type": "stream",
     "text": [
      "Epoch 54/100: Training Loss: 403.6395, \\         Validation Loss: 404.8192\n"
     ]
    },
    {
     "name": "stderr",
     "output_type": "stream",
     "text": [
      " 55%|█████▌    | 55/100 [03:04<02:27,  3.28s/it]"
     ]
    },
    {
     "name": "stdout",
     "output_type": "stream",
     "text": [
      "Epoch 55/100: Training Loss: 403.4070, \\         Validation Loss: 405.3232\n"
     ]
    },
    {
     "name": "stderr",
     "output_type": "stream",
     "text": [
      " 56%|█████▌    | 56/100 [03:08<02:24,  3.29s/it]"
     ]
    },
    {
     "name": "stdout",
     "output_type": "stream",
     "text": [
      "Epoch 56/100: Training Loss: 403.4136, \\         Validation Loss: 404.1870\n"
     ]
    },
    {
     "name": "stderr",
     "output_type": "stream",
     "text": [
      " 57%|█████▋    | 57/100 [03:11<02:19,  3.25s/it]"
     ]
    },
    {
     "name": "stdout",
     "output_type": "stream",
     "text": [
      "Epoch 57/100: Training Loss: 403.5303, \\         Validation Loss: 406.3148\n"
     ]
    },
    {
     "name": "stderr",
     "output_type": "stream",
     "text": [
      " 58%|█████▊    | 58/100 [03:14<02:13,  3.17s/it]"
     ]
    },
    {
     "name": "stdout",
     "output_type": "stream",
     "text": [
      "Epoch 58/100: Training Loss: 403.4967, \\         Validation Loss: 405.6374\n"
     ]
    },
    {
     "name": "stderr",
     "output_type": "stream",
     "text": [
      " 59%|█████▉    | 59/100 [03:18<02:17,  3.35s/it]"
     ]
    },
    {
     "name": "stdout",
     "output_type": "stream",
     "text": [
      "Epoch 59/100: Training Loss: 403.1014, \\         Validation Loss: 404.6667\n"
     ]
    },
    {
     "name": "stderr",
     "output_type": "stream",
     "text": [
      " 60%|██████    | 60/100 [03:20<02:08,  3.21s/it]"
     ]
    },
    {
     "name": "stdout",
     "output_type": "stream",
     "text": [
      "Epoch 60/100: Training Loss: 403.3196, \\         Validation Loss: 404.0448\n"
     ]
    },
    {
     "name": "stderr",
     "output_type": "stream",
     "text": [
      " 61%|██████    | 61/100 [03:23<02:00,  3.08s/it]"
     ]
    },
    {
     "name": "stdout",
     "output_type": "stream",
     "text": [
      "Epoch 61/100: Training Loss: 403.1878, \\         Validation Loss: 404.7847\n"
     ]
    },
    {
     "name": "stderr",
     "output_type": "stream",
     "text": [
      " 62%|██████▏   | 62/100 [03:26<01:53,  3.00s/it]"
     ]
    },
    {
     "name": "stdout",
     "output_type": "stream",
     "text": [
      "Epoch 62/100: Training Loss: 403.3342, \\         Validation Loss: 405.5902\n"
     ]
    },
    {
     "name": "stderr",
     "output_type": "stream",
     "text": [
      " 63%|██████▎   | 63/100 [03:29<01:48,  2.94s/it]"
     ]
    },
    {
     "name": "stdout",
     "output_type": "stream",
     "text": [
      "Epoch 63/100: Training Loss: 403.2255, \\         Validation Loss: 403.9326\n"
     ]
    },
    {
     "name": "stderr",
     "output_type": "stream",
     "text": [
      " 64%|██████▍   | 64/100 [03:32<01:44,  2.90s/it]"
     ]
    },
    {
     "name": "stdout",
     "output_type": "stream",
     "text": [
      "Epoch 64/100: Training Loss: 403.1753, \\         Validation Loss: 404.7824\n"
     ]
    },
    {
     "name": "stderr",
     "output_type": "stream",
     "text": [
      " 65%|██████▌   | 65/100 [03:35<01:40,  2.88s/it]"
     ]
    },
    {
     "name": "stdout",
     "output_type": "stream",
     "text": [
      "Epoch 65/100: Training Loss: 403.1180, \\         Validation Loss: 404.7360\n"
     ]
    },
    {
     "name": "stderr",
     "output_type": "stream",
     "text": [
      " 66%|██████▌   | 66/100 [03:37<01:35,  2.81s/it]"
     ]
    },
    {
     "name": "stdout",
     "output_type": "stream",
     "text": [
      "Epoch 66/100: Training Loss: 403.1106, \\         Validation Loss: 405.5131\n"
     ]
    },
    {
     "name": "stderr",
     "output_type": "stream",
     "text": [
      " 67%|██████▋   | 67/100 [03:40<01:30,  2.75s/it]"
     ]
    },
    {
     "name": "stdout",
     "output_type": "stream",
     "text": [
      "Epoch 67/100: Training Loss: 403.0177, \\         Validation Loss: 406.0608\n"
     ]
    },
    {
     "name": "stderr",
     "output_type": "stream",
     "text": [
      " 67%|██████▋   | 67/100 [03:42<01:49,  3.33s/it]"
     ]
    },
    {
     "name": "stdout",
     "output_type": "stream",
     "text": [
      "Epoch 68/100: Training Loss: 403.2228, \\         Validation Loss: 408.1722\n",
      "Stopping training due to lack of improvement in validation loss for 5 epochs.\n"
     ]
    },
    {
     "name": "stderr",
     "output_type": "stream",
     "text": [
      "\n"
     ]
    }
   ],
   "source": [
    "learning_rates = [1e-3, 1e-4, 1e-3, 3e-3, 0.01, 0.03, 0.1, 0.3, 1.0]\n",
    "lr_dict = dict()\n",
    "epoch_cnt = []\n",
    "losses = []\n",
    "\n",
    "for lr in learning_rates:\n",
    "    # Create an instance of your model\n",
    "    model = MyModel().to(device)\n",
    "\n",
    "    # Define the loss function\n",
    "    criterion = nn.MSELoss()\n",
    "\n",
    "    # Define the optimizer\n",
    "    optimizer = optim.Adam(model.parameters(), lr = lr)\n",
    "\n",
    "    # Training loop\n",
    "    num_epochs = 100\n",
    "\n",
    "    # For early stopping\n",
    "    best_val_loss = float('inf')\n",
    "    patience = 5  # Number of epochs to wait for improvement before stopping\n",
    "    epochs_without_improvement = 0\n",
    "\n",
    "    for epoch in tqdm(range(num_epochs)):\n",
    "        train_loss = 0.0\n",
    "\n",
    "        # Set the model to training mode\n",
    "        model.train()\n",
    "\n",
    "        for batch_idx, (inputs, targets) in enumerate(dataloader):\n",
    "            inputs = inputs.float().to(device)\n",
    "            targets = targets.float().to(device)\n",
    "            # Forward pass\n",
    "            outputs = model(inputs)\n",
    "            outputs = outputs.float()\n",
    "            loss = criterion(outputs, targets.reshape(targets.shape[0], 1))\n",
    "\n",
    "            # Backward pass and optimization\n",
    "            optimizer.zero_grad()\n",
    "            loss.backward()\n",
    "            optimizer.step()\n",
    "\n",
    "            # Accumulate the training loss\n",
    "            train_loss += loss.item()\n",
    "\n",
    "        # Calculate average training loss for the epoch\n",
    "        train_loss /= len(dataloader)\n",
    "\n",
    "        # Set the model to evaluation mode for validation\n",
    "        model.eval()\n",
    "\n",
    "        # Validation loop\n",
    "        val_loss = 0.0\n",
    "\n",
    "        with torch.no_grad():\n",
    "            for batch_idx, (inputs, targets) in enumerate(validation_dataloader):\n",
    "                inputs = inputs.float().to(device)\n",
    "                targets = targets.float().to(device).unsqueeze(axis=1)\n",
    "                # Forward pass\n",
    "                outputs = model(inputs)\n",
    "                #print(outputs)\n",
    "                loss = criterion(outputs, targets.reshape(targets.shape[0], 1))\n",
    "\n",
    "                # Accumulate the validation loss\n",
    "                val_loss += loss.item()\n",
    "\n",
    "            # Calculate average validation loss for the epoch\n",
    "            val_loss /= len(validation_dataloader)\n",
    "\n",
    "        # Print the loss for the epoch\n",
    "        print(f\"Epoch {epoch+1}/{num_epochs}: Training Loss: {train_loss**.5:.4f}, \\         Validation Loss: {(val_loss**.5):.4f}\")\n",
    "        epoch_cnt.append(epoch + 1)\n",
    "        losses.append(train_loss**.5)\n",
    "        # Check for early stopping\n",
    "        if val_loss < best_val_loss - 0.1:\n",
    "            best_val_loss = round(val_loss)\n",
    "            epochs_without_improvement = 0\n",
    "        else:\n",
    "            epochs_without_improvement += 1\n",
    "            if epochs_without_improvement == patience:\n",
    "                print(f\"Stopping training due to lack of improvement in validation loss for {patience} epochs.\")\n",
    "                break\n",
    "    lr_dict[lr] = best_val_loss\n",
    "    break\n"
   ]
  },
  {
   "cell_type": "code",
   "execution_count": 38,
   "id": "ad047898",
   "metadata": {},
   "outputs": [
    {
     "data": {
      "image/png": "[encoded data removed]",
      "text/plain": [
       "<Figure size 432x288 with 1 Axes>"
      ]
     },
     "metadata": {
      "needs_background": "light"
     },
     "output_type": "display_data"
    }
   ],
   "source": [
    "plt.plot(epoch_cnt, losses)\n",
    "plt.title(\"loss over time\")\n",
    "plt.xlabel(\"Epochs\")\n",
    "plt.ylabel(\"loss\")\n",
    "plt.show()"
   ]
  },
  {
   "cell_type": "code",
   "execution_count": 31,
   "id": "fee24301",
   "metadata": {},
   "outputs": [
    {
     "name": "stdout",
     "output_type": "stream",
     "text": [
      "tensor([[772.5705],\n",
      "        [757.7123],\n",
      "        [787.5950],\n",
      "        [723.7085],\n",
      "        [726.1119],\n",
      "        [762.7115],\n",
      "        [727.3709],\n",
      "        [772.6344],\n",
      "        [722.4496],\n",
      "        [751.2142],\n",
      "        [718.7239],\n",
      "        [798.8524],\n",
      "        [798.0546],\n",
      "        [803.2037],\n",
      "        [802.1844],\n",
      "        [797.1928],\n",
      "        [806.1272],\n",
      "        [835.4033],\n",
      "        [740.8999],\n",
      "        [946.1329],\n",
      "        [764.0679],\n",
      "        [864.3622],\n",
      "        [781.4163],\n",
      "        [719.6763],\n",
      "        [764.3636],\n",
      "        [765.5667],\n",
      "        [772.6790],\n",
      "        [729.2021],\n",
      "        [729.6600],\n",
      "        [730.5287],\n",
      "        [730.1353],\n",
      "        [725.9976],\n",
      "        [794.9838],\n",
      "        [791.2413],\n",
      "        [831.9380],\n",
      "        [791.5630],\n",
      "        [763.2421],\n",
      "        [722.5640],\n",
      "        [720.1398],\n",
      "        [769.3226],\n",
      "        [730.6181],\n",
      "        [789.3610],\n",
      "        [801.2416],\n",
      "        [719.9852],\n",
      "        [770.1631],\n",
      "        [760.6156],\n",
      "        [803.7966],\n",
      "        [790.1965],\n",
      "        [629.7144],\n",
      "        [754.3870],\n",
      "        [751.6925],\n",
      "        [722.6784],\n",
      "        [730.9960],\n",
      "        [755.8002],\n",
      "        [720.4488],\n",
      "        [726.2264],\n",
      "        [726.4553],\n",
      "        [721.6296],\n",
      "        [839.8339],\n",
      "        [771.3889],\n",
      "        [747.8227],\n",
      "        [852.0944],\n",
      "        [799.2632],\n",
      "        [768.4911],\n",
      "        [744.1271],\n",
      "        [723.9374],\n",
      "        [728.6299],\n",
      "        [770.1532],\n",
      "        [789.0825],\n",
      "        [719.8308],\n",
      "        [788.1981],\n",
      "        [887.8254],\n",
      "        [761.1299],\n",
      "        [854.7679],\n",
      "        [618.5310],\n",
      "        [720.7390],\n",
      "        [615.4515],\n",
      "        [724.4258],\n",
      "        [792.2397],\n",
      "        [733.0725],\n",
      "        [665.1063],\n",
      "        [587.4539],\n",
      "        [721.5526],\n",
      "        [692.1639],\n",
      "        [592.4178],\n",
      "        [680.1274],\n",
      "        [775.0562],\n",
      "        [731.6826],\n",
      "        [602.2186],\n",
      "        [719.3174],\n",
      "        [670.3035],\n",
      "        [812.2012],\n",
      "        [754.3538],\n",
      "        [671.3822],\n",
      "        [607.7227],\n",
      "        [826.7509],\n",
      "        [679.9030],\n",
      "        [714.2340],\n",
      "        [646.2000],\n",
      "        [743.2244],\n",
      "        [579.7184],\n",
      "        [684.4147],\n",
      "        [738.9817],\n",
      "        [587.3414],\n",
      "        [592.1047],\n",
      "        [765.6963],\n",
      "        [618.3985],\n",
      "        [580.5912],\n",
      "        [691.5464],\n",
      "        [710.0762],\n",
      "        [712.2131],\n",
      "        [661.1550],\n",
      "        [608.0290],\n",
      "        [666.4358],\n",
      "        [675.0963],\n",
      "        [720.0423],\n",
      "        [597.0110],\n",
      "        [628.4118],\n",
      "        [726.1849],\n",
      "        [584.9927],\n",
      "        [720.2445],\n",
      "        [721.2841],\n",
      "        [703.7702],\n",
      "        [705.5468],\n",
      "        [606.0245],\n",
      "        [807.7172],\n",
      "        [740.5970],\n",
      "        [665.6803],\n",
      "        [734.3219],\n",
      "        [615.5493],\n",
      "        [585.2035],\n",
      "        [621.8409],\n",
      "        [764.9385],\n",
      "        [815.5156],\n",
      "        [745.3431],\n",
      "        [785.0133],\n",
      "        [588.8731],\n",
      "        [589.3896],\n",
      "        [676.2189],\n",
      "        [672.8513],\n",
      "        [843.0103],\n",
      "        [588.0133],\n",
      "        [695.6763],\n",
      "        [632.5001],\n",
      "        [670.1190],\n",
      "        [693.2129],\n",
      "        [593.3682],\n",
      "        [743.7651],\n",
      "        [701.1663],\n",
      "        [559.9664],\n",
      "        [680.9700],\n",
      "        [815.0144],\n",
      "        [834.0056],\n",
      "        [805.7704],\n",
      "        [884.4681],\n",
      "        [784.2855],\n",
      "        [808.4943],\n",
      "        [804.5618],\n",
      "        [743.5683],\n",
      "        [778.2629],\n",
      "        [812.2393],\n",
      "        [839.4542],\n",
      "        [832.8115],\n",
      "        [742.9504],\n",
      "        [802.1471],\n",
      "        [772.3986],\n",
      "        [809.9877],\n",
      "        [822.8635],\n",
      "        [840.1508],\n",
      "        [746.6583],\n",
      "        [771.9231],\n",
      "        [803.2972],\n",
      "        [834.6429],\n",
      "        [755.1299],\n",
      "        [747.1217],\n",
      "        [834.2217],\n",
      "        [739.3163],\n",
      "        [811.2861],\n",
      "        [799.8820],\n",
      "        [798.5089],\n",
      "        [749.7615],\n",
      "        [758.3584],\n",
      "        [785.2637],\n",
      "        [835.6349],\n",
      "        [743.2593],\n",
      "        [848.8240],\n",
      "        [863.6785],\n",
      "        [766.0104],\n",
      "        [766.2008],\n",
      "        [808.0003],\n",
      "        [807.2867],\n",
      "        [664.5824],\n",
      "        [884.1692],\n",
      "        [834.1137],\n",
      "        [791.4873],\n",
      "        [864.6919],\n",
      "        [878.3862],\n",
      "        [642.7289],\n",
      "        [819.6179],\n",
      "        [753.8334],\n",
      "        [780.2704],\n",
      "        [814.0035],\n",
      "        [778.8764],\n",
      "        [834.8409],\n",
      "        [834.8571],\n",
      "        [633.4269],\n",
      "        [757.9864],\n",
      "        [798.6819],\n",
      "        [799.4031],\n",
      "        [860.5917],\n",
      "        [768.1165],\n",
      "        [786.2346],\n",
      "        [959.4858],\n",
      "        [755.0103],\n",
      "        [784.6270],\n",
      "        [796.7142],\n",
      "        [726.5977],\n",
      "        [756.6115],\n",
      "        [775.5651],\n",
      "        [780.6601],\n",
      "        [857.6661],\n",
      "        [836.0062],\n",
      "        [796.7809],\n",
      "        [836.8133],\n",
      "        [771.4753],\n",
      "        [805.7612],\n",
      "        [879.5892],\n",
      "        [803.5041],\n",
      "        [514.0170],\n",
      "        [586.5422],\n",
      "        [516.0363],\n",
      "        [603.1261],\n",
      "        [610.0929],\n",
      "        [564.2561],\n",
      "        [568.0950],\n",
      "        [575.3716],\n",
      "        [596.3583],\n",
      "        [591.9846],\n",
      "        [574.3285],\n",
      "        [525.3981],\n",
      "        [581.5984],\n",
      "        [577.5342],\n",
      "        [520.5170],\n",
      "        [627.5230],\n",
      "        [587.3586],\n",
      "        [565.4391],\n",
      "        [448.2548],\n",
      "        [556.9689],\n",
      "        [586.9855],\n",
      "        [508.5772],\n",
      "        [479.1351],\n",
      "        [532.4398],\n",
      "        [641.9482],\n",
      "        [562.3482],\n",
      "        [514.2493],\n",
      "        [570.5494],\n",
      "        [565.6402],\n",
      "        [562.4863],\n",
      "        [533.0773],\n",
      "        [566.9058],\n",
      "        [569.5939],\n",
      "        [573.2982],\n",
      "        [563.9890],\n",
      "        [566.3831],\n",
      "        [533.0236],\n",
      "        [514.4824],\n",
      "        [572.0712],\n",
      "        [610.9002],\n",
      "        [587.1322],\n",
      "        [575.9612],\n",
      "        [568.1160],\n",
      "        [571.5220],\n",
      "        [556.6166],\n",
      "        [512.8727],\n",
      "        [576.9722],\n",
      "        [442.5938],\n",
      "        [515.7458],\n",
      "        [587.3549],\n",
      "        [567.5291],\n",
      "        [435.3999],\n",
      "        [566.2866],\n",
      "        [535.9006],\n",
      "        [582.0175],\n",
      "        [525.7885],\n",
      "        [562.7892],\n",
      "        [616.0928],\n",
      "        [577.8837],\n",
      "        [598.4501],\n",
      "        [558.1466],\n",
      "        [580.6193],\n",
      "        [669.0373],\n",
      "        [784.3524],\n",
      "        [719.2675],\n",
      "        [686.6643],\n",
      "        [690.0112],\n",
      "        [674.2462],\n",
      "        [674.1016],\n",
      "        [659.5562],\n",
      "        [702.1544],\n",
      "        [712.0475],\n",
      "        [713.6235],\n",
      "        [776.7898],\n",
      "        [669.2584],\n",
      "        [738.2368],\n",
      "        [664.5146],\n",
      "        [732.9059],\n",
      "        [672.9760],\n",
      "        [672.4326],\n",
      "        [781.0217],\n",
      "        [664.4550],\n",
      "        [663.1698],\n",
      "        [660.3828],\n",
      "        [664.0177],\n",
      "        [775.2361],\n",
      "        [701.2209],\n",
      "        [732.5758],\n",
      "        [627.1073],\n",
      "        [695.8259],\n",
      "        [670.1675],\n",
      "        [663.6688]], device='cuda:0', grad_fn=<AddmmBackward0>)\n"
     ]
    }
   ],
   "source": [
    "\n",
    "X_test= torch.tensor(X_test).float().cuda()\n",
    "#print(X)\n",
    "output =model(X_test)\n",
    "print(output)"
   ]
  },
  {
   "cell_type": "code",
   "execution_count": 32,
   "id": "6a5b2cdd",
   "metadata": {},
   "outputs": [
    {
     "data": {
      "text/plain": [
       "<AxesSubplot:ylabel='Count'>"
      ]
     },
     "execution_count": 32,
     "metadata": {},
     "output_type": "execute_result"
    },
    {
     "data": {
      "image/png": "[encoded data removed]",
      "text/plain": [
       "<Figure size 432x288 with 1 Axes>"
      ]
     },
     "metadata": {
      "needs_background": "light"
     },
     "output_type": "display_data"
    }
   ],
   "source": [
    "sns.histplot(output.cpu().detach().numpy())"
   ]
  },
  {
   "cell_type": "code",
   "execution_count": 33,
   "id": "6abefc83",
   "metadata": {},
   "outputs": [
    {
     "data": {
      "text/plain": [
       "<AxesSubplot:ylabel='Count'>"
      ]
     },
     "execution_count": 33,
     "metadata": {},
     "output_type": "execute_result"
    },
    {
     "data": {
      "image/png": "[encoded data removed]",
      "text/plain": [
       "<Figure size 432x288 with 1 Axes>"
      ]
     },
     "metadata": {
      "needs_background": "light"
     },
     "output_type": "display_data"
    }
   ],
   "source": [
    "sns.histplot(y_train)"
   ]
  },
  {
   "cell_type": "markdown",
   "id": "c0d80537",
   "metadata": {},
   "source": [
    "predictions_train = random_regressor.predict(X_train)\n",
    "print(predictions_train)\n",
    "print(y_train)\n",
    "\n",
    "predictions_test = random_regressor.predict(X_val)\n",
    "\n",
    "print(predictions_test)\n",
    "print(y_val)"
   ]
  },
  {
   "cell_type": "markdown",
   "id": "2559516d",
   "metadata": {},
   "source": [
    "loss_train = sqrt(mean_squared_error(predictions_train, y_train))\n",
    "loss_test = sqrt(mean_squared_error(predictions_test, y_val))\n",
    "if loss_test >= baseline_loss_test or loss_train <= baseline_loss_train:\n",
    "    print(loss_train)\n",
    "    print(loss_test)\n",
    "    print('This model aint worth jack')\n",
    "#worthless model if either above 70 million"
   ]
  },
  {
   "cell_type": "code",
   "execution_count": 34,
   "id": "b8fa9cf4",
   "metadata": {},
   "outputs": [],
   "source": [
    "torch.save(model.state_dict(), 'test.pt')"
   ]
  },
  {
   "cell_type": "code",
   "execution_count": 35,
   "id": "b72bfab1",
   "metadata": {},
   "outputs": [],
   "source": [
    "\n",
    "travel = pd.read_csv('sampleSubmission.csv')\n",
    "travel['TRAVEL_TIME'] = output.cpu().detach().numpy()\n",
    "travel.to_csv('sampleSubmission.csv', index = False)"
   ]
  },
  {
   "cell_type": "code",
   "execution_count": null,
   "id": "9c370d46",
   "metadata": {},
   "outputs": [],
   "source": []
  }
 ],
 "metadata": {
  "kernelspec": {
   "display_name": "Python 3 (ipykernel)",
   "language": "python",
   "name": "python3"
  },
  "language_info": {
   "codemirror_mode": {
    "name": "ipython",
    "version": 3
   },
   "file_extension": ".py",
   "mimetype": "text/x-python",
   "name": "python",
   "nbconvert_exporter": "python",
   "pygments_lexer": "ipython3",
   "version": "3.9.5"
  },
  "vscode": {
   "interpreter": {
    "hash": "da9d9bdd9059dde572f099ebaa5f0b9a8f7e66277cded8e4c321d7db185e55d7"
   }
  }
 },
 "nbformat": 4,
 "nbformat_minor": 5
}
