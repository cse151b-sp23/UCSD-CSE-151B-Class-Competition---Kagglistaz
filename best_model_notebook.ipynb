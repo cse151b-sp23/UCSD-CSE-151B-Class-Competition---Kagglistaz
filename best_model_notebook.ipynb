{
  "cells": [
    {
      "cell_type": "code",
      "execution_count": 47,
      "id": "3226a1b9",
      "metadata": {
        "id": "3226a1b9"
      },
      "outputs": [],
      "source": [
        "import matplotlib.pyplot as plt\n",
        "import seaborn as sns\n",
        "import numpy as np # linear algebra\n",
        "import pandas as pd # data processing, CSV file I/O (e.g. pd.read_csv)\n",
        "import torch\n",
        "import torch.nn as nn\n",
        "import torch.optim as optim\n",
        "\n",
        "from numpy import sqrt \n",
        "from sklearn.ensemble import RandomForestRegressor\n",
        "from sklearn.datasets import make_classification\n",
        "from sklearn.preprocessing import OneHotEncoder\n",
        "from sklearn.compose import ColumnTransformer\n",
        "from sklearn.pipeline import Pipeline\n",
        "from sklearn.linear_model import LogisticRegression\n",
        "from sklearn.model_selection import train_test_split\n",
        "from sklearn.metrics import mean_squared_error\n",
        "from sklearn.model_selection import RandomizedSearchCV\n",
        "from sklearn.preprocessing import StandardScaler\n",
        "# from keras.models import Sequential\n",
        "# from keras.layers import Dense\n",
        "from torch.utils.data import DataLoader\n",
        "\n",
        "from tqdm import tqdm"
      ]
    },
    {
      "cell_type": "code",
      "execution_count": 48,
      "id": "9tiWO4syPojX",
      "metadata": {
        "colab": {
          "base_uri": "https://localhost:8080/"
        },
        "id": "9tiWO4syPojX",
        "outputId": "4d8a6dc9-a6a2-4e56-c89f-7ae0956ac482"
      },
      "outputs": [
        {
          "name": "stdout",
          "output_type": "stream",
          "text": [
            "Drive already mounted at /content/drive; to attempt to forcibly remount, call drive.mount(\"/content/drive\", force_remount=True).\n"
          ]
        }
      ],
      "source": [
        "from google.colab import drive\n",
        "drive.mount('/content/drive')"
      ]
    },
    {
      "cell_type": "code",
      "execution_count": 49,
      "id": "2e777e6c",
      "metadata": {
        "colab": {
          "base_uri": "https://localhost:8080/"
        },
        "id": "2e777e6c",
        "outputId": "2324f2c3-da00-4680-fef1-67527f433959"
      },
      "outputs": [
        {
          "name": "stdout",
          "output_type": "stream",
          "text": [
            "cuda\n"
          ]
        }
      ],
      "source": [
        "device = 'cpu'\n",
        "if torch.cuda.is_available():\n",
        "    device = torch.device('cuda')\n",
        "print(device)"
      ]
    },
    {
      "cell_type": "code",
      "execution_count": 50,
      "id": "LRtjajwxRexy",
      "metadata": {
        "id": "LRtjajwxRexy"
      },
      "outputs": [],
      "source": [
        "data = pd.read_csv('drive/MyDrive/Colab Notebooks/train_cleaned (4).csv')\n",
        "test_data = pd.read_csv('drive/MyDrive/Colab Notebooks/clean_test.csv')\n",
        "test_data = test_data.rename(columns={'YEAR': 'YR', 'MONTH': 'MON', 'HOUR': 'HR', 'WEEKDAY': 'WK_DAY'})"
      ]
    },
    {
      "cell_type": "code",
      "execution_count": 51,
      "id": "0NjXz49cEhwG",
      "metadata": {
        "colab": {
          "base_uri": "https://localhost:8080/"
        },
        "id": "0NjXz49cEhwG",
        "outputId": "449f3748-ef1b-4667-cd51-528f48db35b0"
      },
      "outputs": [
        {
          "data": {
            "text/plain": [
              "array([13, 14, 17, 16, 18,  3,  4,  7,  8])"
            ]
          },
          "execution_count": 51,
          "metadata": {},
          "output_type": "execute_result"
        }
      ],
      "source": [
        "data['START_HR'].unique()"
      ]
    },
    {
      "cell_type": "code",
      "execution_count": 52,
      "id": "oix6NNMsFOzm",
      "metadata": {
        "colab": {
          "base_uri": "https://localhost:8080/"
        },
        "id": "oix6NNMsFOzm",
        "outputId": "d715d173-f63f-4314-93bd-9c115bba058a"
      },
      "outputs": [
        {
          "data": {
            "text/plain": [
              "array([ 2,  3,  6,  7,  8, 11, 12, 13, 14, 15, 16, 17])"
            ]
          },
          "execution_count": 52,
          "metadata": {},
          "output_type": "execute_result"
        }
      ],
      "source": [
        "vals = test_data['HR'].unique()\n",
        "vals.sort()\n",
        "vals"
      ]
    },
    {
      "cell_type": "code",
      "execution_count": 53,
      "id": "_krxzaUfY_sU",
      "metadata": {
        "id": "_krxzaUfY_sU"
      },
      "outputs": [],
      "source": [
        "# test_months = test_data['MON'].unique()\n",
        "\n",
        "# test_hrs = test_data['HR'].unique()\n",
        "\n",
        "# test_days = test_data['DAY'].unique()\n",
        "\n",
        "# test_taxis = test_data['TAXI_ID'].unique()\n",
        "\n",
        "# data = data[data['MON'].isin(test_months)]\n",
        "# data = data[data['HR'].isin(test_hrs)]\n",
        "# data = data[data['DAY'].isin(test_days)]\n",
        "# #data = data[data['TAXI_ID'].isin(test_taxis)]"
      ]
    },
    {
      "cell_type": "code",
      "execution_count": 54,
      "id": "msTLKA06cBK3",
      "metadata": {
        "id": "msTLKA06cBK3"
      },
      "outputs": [],
      "source": [
        "# data = data.drop(['STAND_LAT', 'STAND_LONG', 'ORIGIN_CALL', 'ORIGIN', 'YR'], axis=1)"
      ]
    },
    {
      "cell_type": "code",
      "execution_count": 55,
      "id": "cxnp-GaFeuLh",
      "metadata": {
        "id": "cxnp-GaFeuLh"
      },
      "outputs": [],
      "source": [
        "# data.columns"
      ]
    },
    {
      "cell_type": "code",
      "execution_count": 56,
      "id": "Rkyivf2Jew9Y",
      "metadata": {
        "id": "Rkyivf2Jew9Y"
      },
      "outputs": [],
      "source": [
        "trip_ids = test_data['TRIP_ID']\n",
        "test_cols = ['CALL_TYPE',\n",
        " 'ORIGIN_STAND',\n",
        " #'TAXI_ID',\n",
        " 'MON',\n",
        " 'DAY',\n",
        " 'HR',\n",
        " #'YR',\n",
        " 'WK_DAY']\n",
        "test_data = test_data[test_cols]"
      ]
    },
    {
      "cell_type": "code",
      "execution_count": 57,
      "id": "Z1IhhP2Te1vH",
      "metadata": {
        "colab": {
          "base_uri": "https://localhost:8080/"
        },
        "id": "Z1IhhP2Te1vH",
        "outputId": "c4d0a6db-38b4-441f-b0a1-79e757168b02"
      },
      "outputs": [
        {
          "data": {
            "text/plain": [
              "Index(['CALL_TYPE', 'ORIGIN_STAND', 'MON', 'DAY', 'HR', 'WK_DAY'], dtype='object')"
            ]
          },
          "execution_count": 57,
          "metadata": {},
          "output_type": "execute_result"
        }
      ],
      "source": [
        "test_data.columns"
      ]
    },
    {
      "cell_type": "code",
      "execution_count": 58,
      "id": "fbOexKyOihcg",
      "metadata": {
        "id": "fbOexKyOihcg"
      },
      "outputs": [],
      "source": [
        "data = data[['CALL_TYPE',\n",
        " 'ORIGIN_STAND',\n",
        " #'TAXI_ID',\n",
        " 'MON',\n",
        " 'DAY',\n",
        " 'START_HR',\n",
        " 'WK_DAY',\n",
        "  'tripTimeSec']].rename(columns={'START_HR':'HR'})"
      ]
    },
    {
      "cell_type": "code",
      "execution_count": 59,
      "id": "zyLQWx5UkQ2L",
      "metadata": {
        "colab": {
          "base_uri": "https://localhost:8080/"
        },
        "id": "zyLQWx5UkQ2L",
        "outputId": "821c383e-fab0-4b37-b173-945f44fe7448"
      },
      "outputs": [
        {
          "data": {
            "text/plain": [
              "array([ 2,  3,  6,  7,  8, 11, 12, 13, 14, 15, 16, 17])"
            ]
          },
          "execution_count": 59,
          "metadata": {},
          "output_type": "execute_result"
        }
      ],
      "source": [
        "x = test_data['HR'].unique()\n",
        "x.sort()\n",
        "x"
      ]
    },
    {
      "cell_type": "code",
      "execution_count": 60,
      "id": "BYIdelLJkXIh",
      "metadata": {
        "colab": {
          "base_uri": "https://localhost:8080/"
        },
        "id": "BYIdelLJkXIh",
        "outputId": "855b902c-0e9b-48f3-d1e7-b1e047f3cc16"
      },
      "outputs": [
        {
          "data": {
            "text/plain": [
              "array([ 3,  4,  7,  8, 13, 14, 16, 17, 18])"
            ]
          },
          "execution_count": 60,
          "metadata": {},
          "output_type": "execute_result"
        }
      ],
      "source": [
        "sfl = data['HR'].unique()\n",
        "sfl.sort()\n",
        "sfl"
      ]
    },
    {
      "cell_type": "code",
      "execution_count": 60,
      "id": "Y3jwucLbEcpp",
      "metadata": {
        "id": "Y3jwucLbEcpp"
      },
      "outputs": [],
      "source": []
    },
    {
      "cell_type": "code",
      "execution_count": 61,
      "id": "11703834",
      "metadata": {
        "colab": {
          "base_uri": "https://localhost:8080/"
        },
        "id": "11703834",
        "outputId": "34c0aa7e-cdf7-482a-e858-1d3ff564a2b3"
      },
      "outputs": [
        {
          "name": "stdout",
          "output_type": "stream",
          "text": [
            "train nans: CALL_TYPE       0\n",
            "ORIGIN_STAND    0\n",
            "MON             0\n",
            "DAY             0\n",
            "HR              0\n",
            "WK_DAY          0\n",
            "tripTimeSec     0\n",
            "dtype: int64\n",
            "test nans: CALL_TYPE       0\n",
            "ORIGIN_STAND    0\n",
            "MON             0\n",
            "DAY             0\n",
            "HR              7\n",
            "WK_DAY          0\n",
            "dtype: int64\n",
            "test nans: CALL_TYPE       0\n",
            "ORIGIN_STAND    0\n",
            "MON             0\n",
            "DAY             0\n",
            "HR              0\n",
            "WK_DAY          0\n",
            "dtype: int64\n"
          ]
        }
      ],
      "source": [
        "#data = pd.read_csv('drive/MyDrive/Colab Notebooks/train_cleaned-4.csv')\n",
        "#data = data.drop(['STAND_LAT', 'STAND_LONG', 'ORIGIN_CALL', 'ORIGIN'], axis=1)\n",
        "\n",
        "#test_data = pd.read_csv('drive/MyDrive/Colab Notebooks/clean_test.csv')\n",
        "#test_data = test_data.rename(columns={'YEAR': 'YR', 'MONTH': 'MON', 'HOUR': 'HR', 'WEEKDAY': 'WK_DAY'})\n",
        "\n",
        "# trip_ids = test_data['TRIP_ID']\n",
        "# test_cols = ['CALL_TYPE',\n",
        "#  'ORIGIN_STAND',\n",
        "#  'TAXI_ID',\n",
        "#  'MON',\n",
        "#  'DAY',\n",
        "#  'HR',\n",
        "#  #'YR',\n",
        "#  'WK_DAY']\n",
        "# test_data = test_data[test_cols]\n",
        "\n",
        "def make_mapping(ser):\n",
        "    '''creates a mapping'''\n",
        "    mapping = dict(zip(ser.unique(), np.arange(len(ser.unique()))))\n",
        "    return mapping, len(ser.unique())\n",
        "\n",
        "def encode(ser, mapping):\n",
        "    '''encodes a series based on a given mapping '''\n",
        "    return ser.map(mapping)\n",
        "\n",
        "\n",
        "encode_cols = ['CALL_TYPE',\n",
        " 'ORIGIN_STAND',\n",
        " #'TAXI_ID',\n",
        " #'YR',\n",
        " 'WK_DAY']\n",
        "\n",
        "mapping_dict = dict()\n",
        "n_categories = []\n",
        "for col in encode_cols:\n",
        "    dat_col = data[col]\n",
        "    test_col = test_data[col]\n",
        "    \n",
        "    # make sure the test and the train data have the same mapping!\n",
        "    combined = pd.concat([dat_col, test_col])\n",
        "    \n",
        "    # prevent weird encoding imbalance if there are some encodings that appear in \n",
        "    # one but not the other\n",
        "    combined = combined.sample(frac=1)\n",
        "    \n",
        "    mapping, n_cat = make_mapping(combined)\n",
        "    \n",
        "    n_categories.append(n_cat)\n",
        "    \n",
        "    data[col] = encode(dat_col, mapping)\n",
        "    test_data[col] = encode(test_col, mapping)\n",
        "\n",
        "    \n",
        "    \n",
        "dat_to_idx = dict()\n",
        "idx_to_dat = dict()\n",
        "count = 0\n",
        "# (column index, categorical encoding)\n",
        "for i, col in enumerate(data.columns):\n",
        "    unique_vals = np.unique(data[col])\n",
        "    for val in unique_vals:\n",
        "        dat_to_idx[(i, val)] = count\n",
        "        idx_to_dat[count] = (i, val)\n",
        "        count += 1\n",
        "        \n",
        "VOCAB_SIZE = count\n",
        "\n",
        "\n",
        "def vocabularize(df):\n",
        "    df = df.copy()\n",
        "    for i, col in enumerate(df.columns): \n",
        "        s = df.shape[0]\n",
        "        arr = (np.ones(s) * i ).astype(int)\n",
        "        ser = df[col]\n",
        "\n",
        "        df[col] = pd.Series(zip(arr, ser)).map(dat_to_idx)\n",
        "    \n",
        "    return df\n",
        "\n",
        "# TRYING OUT LSTM!\n",
        "\n",
        "# COMMENT THESE OUT WHEN RUNNING LSTM\n",
        "# data_times = data['tripTimeSec']\n",
        "# test_times = data['tripTimeSec']\n",
        "\n",
        "vocab_data = vocabularize(data)\n",
        "vocab_test_data = vocabularize(test_data)\n",
        "\n",
        "# # COMMENT THESE OUT WHEN RUNNING LSTM\n",
        "# vocab_data['tripTimeSec'] = data_times\n",
        "# vocab_test_data['tripTimeSec'] = test_times\n",
        "\n",
        "\n",
        "# # check if worked (there should be no NaNs)\n",
        "print('train nans:', vocab_data.isna().sum(axis=0))\n",
        "print('test nans:', vocab_test_data.isna().sum(axis=0))\n",
        "\n",
        "data = vocab_data\n",
        "test_data = vocab_test_data\n",
        "\n",
        "test_data = test_data.fillna(109)\n",
        "print('test nans:', test_data.isna().sum(axis=0))\n",
        "\n",
        "# CREATE TEST, TRAIN, VALIDATION SETS\n",
        "# Create X and y for train and test!\n",
        "selected_cols = ['CALL_TYPE', 'ORIGIN_STAND', 'MON', 'DAY', 'HR',\n",
        "       'WK_DAY'] # make sure the columns are in the same order!\n",
        "data = data.sample(frac = 1)\n",
        "\n",
        "# train size\n",
        "train_prop = .999\n",
        "train_idx = int(data.shape[0] * train_prop)\n",
        "\n",
        "data_train = data[:train_idx]\n",
        "data_val = data[train_idx:]\n",
        "\n",
        "X = data_train.drop(['tripTimeSec'],axis=1)[selected_cols].values\n",
        "y = data_train['tripTimeSec'].values\n",
        "\n",
        "X_val = data_val.drop(['tripTimeSec'],axis=1)[selected_cols].values\n",
        "y_val = data_val['tripTimeSec'].values\n",
        "\n",
        "DAT_FEATURES = X.shape[1]\n",
        "\n",
        "# DO NOT SHUFFLE!\n",
        "X_test = test_data[selected_cols].values"
      ]
    },
    {
      "cell_type": "code",
      "execution_count": 62,
      "id": "bZT33uIHzeza",
      "metadata": {
        "colab": {
          "base_uri": "https://localhost:8080/"
        },
        "id": "bZT33uIHzeza",
        "outputId": "2b027dda-eed4-46de-a6df-cd97520790ab"
      },
      "outputs": [
        {
          "data": {
            "text/plain": [
              "{(0, 0): 0,\n",
              " (0, 1): 1,\n",
              " (0, 2): 2,\n",
              " (1, 0): 3,\n",
              " (1, 1): 4,\n",
              " (1, 2): 5,\n",
              " (1, 3): 6,\n",
              " (1, 4): 7,\n",
              " (1, 5): 8,\n",
              " (1, 6): 9,\n",
              " (1, 7): 10,\n",
              " (1, 8): 11,\n",
              " (1, 9): 12,\n",
              " (1, 10): 13,\n",
              " (1, 11): 14,\n",
              " (1, 12): 15,\n",
              " (1, 13): 16,\n",
              " (1, 14): 17,\n",
              " (1, 15): 18,\n",
              " (1, 16): 19,\n",
              " (1, 17): 20,\n",
              " (1, 18): 21,\n",
              " (1, 19): 22,\n",
              " (1, 20): 23,\n",
              " (1, 21): 24,\n",
              " (1, 22): 25,\n",
              " (1, 23): 26,\n",
              " (1, 24): 27,\n",
              " (1, 25): 28,\n",
              " (1, 26): 29,\n",
              " (1, 27): 30,\n",
              " (1, 28): 31,\n",
              " (1, 29): 32,\n",
              " (1, 30): 33,\n",
              " (1, 31): 34,\n",
              " (1, 32): 35,\n",
              " (1, 33): 36,\n",
              " (1, 34): 37,\n",
              " (1, 35): 38,\n",
              " (1, 36): 39,\n",
              " (1, 37): 40,\n",
              " (1, 38): 41,\n",
              " (1, 39): 42,\n",
              " (1, 40): 43,\n",
              " (1, 41): 44,\n",
              " (1, 42): 45,\n",
              " (1, 43): 46,\n",
              " (1, 44): 47,\n",
              " (1, 45): 48,\n",
              " (1, 46): 49,\n",
              " (1, 47): 50,\n",
              " (1, 48): 51,\n",
              " (1, 49): 52,\n",
              " (1, 50): 53,\n",
              " (1, 51): 54,\n",
              " (1, 52): 55,\n",
              " (1, 53): 56,\n",
              " (1, 54): 57,\n",
              " (1, 55): 58,\n",
              " (1, 56): 59,\n",
              " (1, 57): 60,\n",
              " (1, 58): 61,\n",
              " (1, 59): 62,\n",
              " (1, 60): 63,\n",
              " (1, 61): 64,\n",
              " (1, 62): 65,\n",
              " (2, 1): 66,\n",
              " (2, 2): 67,\n",
              " (2, 3): 68,\n",
              " (2, 4): 69,\n",
              " (2, 5): 70,\n",
              " (2, 6): 71,\n",
              " (2, 7): 72,\n",
              " (2, 8): 73,\n",
              " (2, 9): 74,\n",
              " (2, 10): 75,\n",
              " (2, 11): 76,\n",
              " (2, 12): 77,\n",
              " (3, 1): 78,\n",
              " (3, 2): 79,\n",
              " (3, 3): 80,\n",
              " (3, 4): 81,\n",
              " (3, 5): 82,\n",
              " (3, 6): 83,\n",
              " (3, 7): 84,\n",
              " (3, 8): 85,\n",
              " (3, 9): 86,\n",
              " (3, 10): 87,\n",
              " (3, 11): 88,\n",
              " (3, 12): 89,\n",
              " (3, 13): 90,\n",
              " (3, 14): 91,\n",
              " (3, 15): 92,\n",
              " (3, 16): 93,\n",
              " (3, 17): 94,\n",
              " (3, 18): 95,\n",
              " (3, 19): 96,\n",
              " (3, 20): 97,\n",
              " (3, 21): 98,\n",
              " (3, 22): 99,\n",
              " (3, 23): 100,\n",
              " (3, 24): 101,\n",
              " (3, 25): 102,\n",
              " (3, 26): 103,\n",
              " (3, 27): 104,\n",
              " (3, 28): 105,\n",
              " (3, 29): 106,\n",
              " (3, 30): 107,\n",
              " (3, 31): 108,\n",
              " (4, 3): 109,\n",
              " (4, 4): 110,\n",
              " (4, 7): 111,\n",
              " (4, 8): 112,\n",
              " (4, 13): 113,\n",
              " (4, 14): 114,\n",
              " (4, 16): 115,\n",
              " (4, 17): 116,\n",
              " (4, 18): 117,\n",
              " (5, 0): 118,\n",
              " (5, 1): 119,\n",
              " (5, 2): 120,\n",
              " (5, 3): 121,\n",
              " (5, 4): 122,\n",
              " (5, 5): 123,\n",
              " (5, 6): 124,\n",
              " (6, 15): 125,\n",
              " (6, 30): 126,\n",
              " (6, 45): 127,\n",
              " (6, 60): 128,\n",
              " (6, 75): 129,\n",
              " (6, 90): 130,\n",
              " (6, 105): 131,\n",
              " (6, 120): 132,\n",
              " (6, 135): 133,\n",
              " (6, 150): 134,\n",
              " (6, 165): 135,\n",
              " (6, 180): 136,\n",
              " (6, 195): 137,\n",
              " (6, 210): 138,\n",
              " (6, 225): 139,\n",
              " (6, 240): 140,\n",
              " (6, 255): 141,\n",
              " (6, 270): 142,\n",
              " (6, 285): 143,\n",
              " (6, 300): 144,\n",
              " (6, 315): 145,\n",
              " (6, 330): 146,\n",
              " (6, 345): 147,\n",
              " (6, 360): 148,\n",
              " (6, 375): 149,\n",
              " (6, 390): 150,\n",
              " (6, 405): 151,\n",
              " (6, 420): 152,\n",
              " (6, 435): 153,\n",
              " (6, 450): 154,\n",
              " (6, 465): 155,\n",
              " (6, 480): 156,\n",
              " (6, 495): 157,\n",
              " (6, 510): 158,\n",
              " (6, 525): 159,\n",
              " (6, 540): 160,\n",
              " (6, 555): 161,\n",
              " (6, 570): 162,\n",
              " (6, 585): 163,\n",
              " (6, 600): 164,\n",
              " (6, 615): 165,\n",
              " (6, 630): 166,\n",
              " (6, 645): 167,\n",
              " (6, 660): 168,\n",
              " (6, 675): 169,\n",
              " (6, 690): 170,\n",
              " (6, 705): 171,\n",
              " (6, 720): 172,\n",
              " (6, 735): 173,\n",
              " (6, 750): 174,\n",
              " (6, 765): 175,\n",
              " (6, 780): 176,\n",
              " (6, 795): 177,\n",
              " (6, 810): 178,\n",
              " (6, 825): 179,\n",
              " (6, 840): 180,\n",
              " (6, 855): 181,\n",
              " (6, 870): 182,\n",
              " (6, 885): 183,\n",
              " (6, 900): 184,\n",
              " (6, 915): 185,\n",
              " (6, 930): 186,\n",
              " (6, 945): 187,\n",
              " (6, 960): 188,\n",
              " (6, 975): 189,\n",
              " (6, 990): 190,\n",
              " (6, 1005): 191,\n",
              " (6, 1020): 192,\n",
              " (6, 1035): 193,\n",
              " (6, 1050): 194,\n",
              " (6, 1065): 195,\n",
              " (6, 1080): 196,\n",
              " (6, 1095): 197,\n",
              " (6, 1110): 198,\n",
              " (6, 1125): 199,\n",
              " (6, 1140): 200,\n",
              " (6, 1155): 201,\n",
              " (6, 1170): 202,\n",
              " (6, 1185): 203,\n",
              " (6, 1200): 204,\n",
              " (6, 1215): 205,\n",
              " (6, 1230): 206,\n",
              " (6, 1245): 207,\n",
              " (6, 1260): 208,\n",
              " (6, 1275): 209,\n",
              " (6, 1290): 210,\n",
              " (6, 1305): 211,\n",
              " (6, 1320): 212,\n",
              " (6, 1335): 213,\n",
              " (6, 1350): 214,\n",
              " (6, 1365): 215,\n",
              " (6, 1380): 216,\n",
              " (6, 1395): 217,\n",
              " (6, 1410): 218,\n",
              " (6, 1425): 219,\n",
              " (6, 1440): 220,\n",
              " (6, 1455): 221,\n",
              " (6, 1470): 222,\n",
              " (6, 1485): 223,\n",
              " (6, 1500): 224,\n",
              " (6, 1515): 225,\n",
              " (6, 1530): 226,\n",
              " (6, 1545): 227,\n",
              " (6, 1560): 228,\n",
              " (6, 1575): 229,\n",
              " (6, 1590): 230,\n",
              " (6, 1605): 231,\n",
              " (6, 1620): 232,\n",
              " (6, 1635): 233,\n",
              " (6, 1650): 234,\n",
              " (6, 1665): 235,\n",
              " (6, 1680): 236,\n",
              " (6, 1695): 237,\n",
              " (6, 1710): 238,\n",
              " (6, 1725): 239,\n",
              " (6, 1740): 240,\n",
              " (6, 1755): 241,\n",
              " (6, 1770): 242,\n",
              " (6, 1785): 243,\n",
              " (6, 1800): 244,\n",
              " (6, 1815): 245,\n",
              " (6, 1830): 246,\n",
              " (6, 1845): 247,\n",
              " (6, 1860): 248,\n",
              " (6, 1875): 249,\n",
              " (6, 1890): 250,\n",
              " (6, 1905): 251,\n",
              " (6, 1920): 252,\n",
              " (6, 1935): 253,\n",
              " (6, 1950): 254,\n",
              " (6, 1965): 255,\n",
              " (6, 1980): 256,\n",
              " (6, 1995): 257,\n",
              " (6, 2010): 258,\n",
              " (6, 2025): 259,\n",
              " (6, 2040): 260,\n",
              " (6, 2055): 261,\n",
              " (6, 2070): 262,\n",
              " (6, 2085): 263,\n",
              " (6, 2100): 264,\n",
              " (6, 2115): 265,\n",
              " (6, 2130): 266,\n",
              " (6, 2145): 267,\n",
              " (6, 2160): 268,\n",
              " (6, 2175): 269,\n",
              " (6, 2190): 270,\n",
              " (6, 2205): 271,\n",
              " (6, 2220): 272,\n",
              " (6, 2235): 273,\n",
              " (6, 2250): 274,\n",
              " (6, 2265): 275,\n",
              " (6, 2280): 276,\n",
              " (6, 2295): 277,\n",
              " (6, 2310): 278,\n",
              " (6, 2325): 279,\n",
              " (6, 2340): 280,\n",
              " (6, 2355): 281,\n",
              " (6, 2370): 282,\n",
              " (6, 2385): 283,\n",
              " (6, 2400): 284,\n",
              " (6, 2415): 285,\n",
              " (6, 2430): 286,\n",
              " (6, 2445): 287,\n",
              " (6, 2460): 288,\n",
              " (6, 2475): 289,\n",
              " (6, 2490): 290,\n",
              " (6, 2505): 291,\n",
              " (6, 2520): 292,\n",
              " (6, 2535): 293,\n",
              " (6, 2550): 294,\n",
              " (6, 2565): 295,\n",
              " (6, 2580): 296,\n",
              " (6, 2595): 297,\n",
              " (6, 2610): 298,\n",
              " (6, 2625): 299,\n",
              " (6, 2640): 300,\n",
              " (6, 2655): 301,\n",
              " (6, 2670): 302,\n",
              " (6, 2685): 303,\n",
              " (6, 2700): 304,\n",
              " (6, 2715): 305,\n",
              " (6, 2730): 306,\n",
              " (6, 2745): 307,\n",
              " (6, 2760): 308,\n",
              " (6, 2775): 309}"
            ]
          },
          "execution_count": 62,
          "metadata": {},
          "output_type": "execute_result"
        }
      ],
      "source": [
        "dat_to_idx"
      ]
    },
    {
      "cell_type": "code",
      "execution_count": 63,
      "id": "SEcQWDJ5j3rM",
      "metadata": {
        "colab": {
          "base_uri": "https://localhost:8080/"
        },
        "id": "SEcQWDJ5j3rM",
        "outputId": "1b0d05f2-0a21-41b7-894c-732f9f2f618d"
      },
      "outputs": [
        {
          "data": {
            "text/plain": [
              "array([116, 117, 114, 112, 109, 110, 111, 113, 115])"
            ]
          },
          "execution_count": 63,
          "metadata": {},
          "output_type": "execute_result"
        }
      ],
      "source": [
        "data['HR'].unique()"
      ]
    },
    {
      "cell_type": "code",
      "execution_count": 64,
      "id": "86682c0c",
      "metadata": {
        "colab": {
          "base_uri": "https://localhost:8080/"
        },
        "id": "86682c0c",
        "outputId": "67579c8c-eb11-48ba-87e6-2d7f135a9655"
      },
      "outputs": [
        {
          "name": "stderr",
          "output_type": "stream",
          "text": [
            "  7%|▋         | 1/15 [00:01<00:16,  1.21s/it]"
          ]
        },
        {
          "name": "stdout",
          "output_type": "stream",
          "text": [
            "Epoch 1/15, Training Loss: 4.792718700567881, Validation Loss: 4.629567623138428\n"
          ]
        },
        {
          "name": "stderr",
          "output_type": "stream",
          "text": [
            "\r 13%|█▎        | 2/15 [00:02<00:15,  1.19s/it]"
          ]
        },
        {
          "name": "stdout",
          "output_type": "stream",
          "text": [
            "Epoch 2/15, Training Loss: 4.649645928541819, Validation Loss: 4.52487850189209\n"
          ]
        },
        {
          "name": "stderr",
          "output_type": "stream",
          "text": [
            "\r 20%|██        | 3/15 [00:03<00:14,  1.18s/it]"
          ]
        },
        {
          "name": "stdout",
          "output_type": "stream",
          "text": [
            "Epoch 3/15, Training Loss: 4.5976215362548825, Validation Loss: 4.477680206298828\n"
          ]
        },
        {
          "name": "stderr",
          "output_type": "stream",
          "text": [
            "\r 27%|██▋       | 4/15 [00:04<00:12,  1.17s/it]"
          ]
        },
        {
          "name": "stdout",
          "output_type": "stream",
          "text": [
            "Epoch 4/15, Training Loss: 4.580841096242269, Validation Loss: 4.468291282653809\n"
          ]
        },
        {
          "name": "stderr",
          "output_type": "stream",
          "text": [
            "\r 33%|███▎      | 5/15 [00:05<00:11,  1.17s/it]"
          ]
        },
        {
          "name": "stdout",
          "output_type": "stream",
          "text": [
            "Epoch 5/15, Training Loss: 4.57277983824412, Validation Loss: 4.485115051269531\n"
          ]
        },
        {
          "name": "stderr",
          "output_type": "stream",
          "text": [
            "\r 40%|████      | 6/15 [00:07<00:10,  1.21s/it]"
          ]
        },
        {
          "name": "stdout",
          "output_type": "stream",
          "text": [
            "Epoch 6/15, Training Loss: 4.566972740491232, Validation Loss: 4.478261470794678\n"
          ]
        },
        {
          "name": "stderr",
          "output_type": "stream",
          "text": [
            "\r 47%|████▋     | 7/15 [00:08<00:09,  1.19s/it]"
          ]
        },
        {
          "name": "stdout",
          "output_type": "stream",
          "text": [
            "Epoch 7/15, Training Loss: 4.563841350873312, Validation Loss: 4.476320743560791\n"
          ]
        },
        {
          "name": "stderr",
          "output_type": "stream",
          "text": [
            "\r 53%|█████▎    | 8/15 [00:09<00:08,  1.18s/it]"
          ]
        },
        {
          "name": "stdout",
          "output_type": "stream",
          "text": [
            "Epoch 8/15, Training Loss: 4.559273258845011, Validation Loss: 4.489352703094482\n"
          ]
        },
        {
          "name": "stderr",
          "output_type": "stream",
          "text": [
            "\r 60%|██████    | 9/15 [00:10<00:07,  1.17s/it]"
          ]
        },
        {
          "name": "stdout",
          "output_type": "stream",
          "text": [
            "Epoch 9/15, Training Loss: 4.556460241476695, Validation Loss: 4.4898295402526855\n"
          ]
        },
        {
          "name": "stderr",
          "output_type": "stream",
          "text": [
            "\r 67%|██████▋   | 10/15 [00:11<00:05,  1.17s/it]"
          ]
        },
        {
          "name": "stdout",
          "output_type": "stream",
          "text": [
            "Epoch 10/15, Training Loss: 4.5526948650678, Validation Loss: 4.487026691436768\n"
          ]
        },
        {
          "name": "stderr",
          "output_type": "stream",
          "text": [
            "\r 73%|███████▎  | 11/15 [00:13<00:04,  1.21s/it]"
          ]
        },
        {
          "name": "stdout",
          "output_type": "stream",
          "text": [
            "Epoch 11/15, Training Loss: 4.549892445405324, Validation Loss: 4.491542339324951\n"
          ]
        },
        {
          "name": "stderr",
          "output_type": "stream",
          "text": [
            "\r 80%|████████  | 12/15 [00:14<00:03,  1.20s/it]"
          ]
        },
        {
          "name": "stdout",
          "output_type": "stream",
          "text": [
            "Epoch 12/15, Training Loss: 4.545718789100647, Validation Loss: 4.489068031311035\n"
          ]
        },
        {
          "name": "stderr",
          "output_type": "stream",
          "text": [
            "\r 87%|████████▋ | 13/15 [00:15<00:02,  1.20s/it]"
          ]
        },
        {
          "name": "stdout",
          "output_type": "stream",
          "text": [
            "Epoch 13/15, Training Loss: 4.543068794409434, Validation Loss: 4.4947052001953125\n"
          ]
        },
        {
          "name": "stderr",
          "output_type": "stream",
          "text": [
            "\r 93%|█████████▎| 14/15 [00:16<00:01,  1.19s/it]"
          ]
        },
        {
          "name": "stdout",
          "output_type": "stream",
          "text": [
            "Epoch 14/15, Training Loss: 4.540781299273173, Validation Loss: 4.495176792144775\n"
          ]
        },
        {
          "name": "stderr",
          "output_type": "stream",
          "text": [
            "100%|██████████| 15/15 [00:17<00:00,  1.19s/it]"
          ]
        },
        {
          "name": "stdout",
          "output_type": "stream",
          "text": [
            "Epoch 15/15, Training Loss: 4.536699036757152, Validation Loss: 4.487817287445068\n"
          ]
        },
        {
          "name": "stderr",
          "output_type": "stream",
          "text": [
            "\n"
          ]
        }
      ],
      "source": [
        "\n",
        "import torch\n",
        "from torch import nn\n",
        "import torch\n",
        "from torch.utils.data import DataLoader, Dataset\n",
        "\n",
        "class MyDataset(Dataset):\n",
        "    def __init__(self, data, labels):\n",
        "        self.data = data\n",
        "        self.labels = labels\n",
        "    \n",
        "    def __getitem__(self, index):\n",
        "        x = self.data[index]\n",
        "        y = self.labels[index]\n",
        "        return x, y\n",
        "    \n",
        "    def __len__(self):\n",
        "        return len(self.data)\n",
        "\n",
        "\n",
        "# Create an instance of your dataset\n",
        "dataset = MyDataset(X, y)\n",
        "\n",
        "# Define the batch size for training and validation\n",
        "batch_size = 1024\n",
        "\n",
        "val_dataset = MyDataset(X_val, y_val)\n",
        "\n",
        "# Create the dataloaders\n",
        "dataloader = DataLoader(dataset, batch_size=batch_size, shuffle=True)  # For training\n",
        "validation_dataloader = DataLoader(val_dataset, batch_size=batch_size, shuffle=False)  # For validation\n",
        "\n",
        "\n",
        "class LSTMModel(nn.Module):\n",
        "    def __init__(self, vocab_size, embedding_dim, hidden_dim, num_layers=2, dropout=0.5):\n",
        "        super(LSTMModel, self).__init__()\n",
        "        self.hidden_dim = hidden_dim\n",
        "        self.num_layers = num_layers\n",
        "\n",
        "        self.embedding = nn.Embedding(vocab_size, embedding_dim)\n",
        "        self.lstm = nn.LSTM(embedding_dim, hidden_dim, num_layers=num_layers, dropout=dropout, batch_first=True)\n",
        "        self.dropout = nn.Dropout(dropout)\n",
        "        self.fc = nn.Linear(hidden_dim, vocab_size)\n",
        "\n",
        "    def forward(self, x):\n",
        "        embedded = self.embedding(x)\n",
        "        lstm_out, _ = self.lstm(embedded)\n",
        "        out = self.dropout(lstm_out[:, -1, :])\n",
        "        output = self.fc(out)\n",
        "        output = torch.log_softmax(output, dim=1)\n",
        "        return output\n",
        "\n",
        "embedding_dim = 20\n",
        "num_layers = 4  # Number of LSTM layers\n",
        "dropout = 0.5  # Dropout rate\n",
        "model = LSTMModel(VOCAB_SIZE, embedding_dim, hidden_dim=256, num_layers=num_layers, dropout=dropout)\n",
        "model = model.to(device)\n",
        "\n",
        "\n",
        "# model = LSTMModel(VOCAB_SIZE, embedding_dim, hidden_dim=256)\n",
        "# model = model.to(device)\n",
        "loss_function = nn.NLLLoss() # Negative Log Likelihood loss\n",
        "optimizer = torch.optim.Adam(model.parameters())\n",
        "\n",
        "num_epochs = 15\n",
        "# Loop over each epoch\n",
        "for epoch in tqdm(range(num_epochs)):\n",
        "    model.train()  # Set the model to training mode\n",
        "    total_train_loss = 0  # Keep track of total training loss\n",
        "    # Train on batches of data\n",
        "    for inputs, targets in dataloader:\n",
        "        inputs, targets = inputs.to(device), targets.to(device)\n",
        "        model.zero_grad()\n",
        "        outputs = model(inputs)\n",
        "        loss = loss_function(outputs, targets)\n",
        "        loss.backward()\n",
        "        optimizer.step()\n",
        "        total_train_loss += loss.item()\n",
        "    avg_train_loss = total_train_loss / len(dataloader)\n",
        "    \n",
        "    # After training for each epoch, check the loss on validation set\n",
        "    model.eval()  # Set the model to evaluation mode\n",
        "    total_val_loss = 0  # Keep track of total validation loss\n",
        "    # Validate on batches of data\n",
        "    for inputs, targets in validation_dataloader:\n",
        "        inputs, targets = inputs.to(device), targets.to(device)\n",
        "        with torch.no_grad():\n",
        "            outputs = model(inputs)\n",
        "            loss = loss_function(outputs, targets)\n",
        "            total_val_loss += loss.item()\n",
        "    avg_val_loss = total_val_loss / len(validation_dataloader)\n",
        "    \n",
        "    # Print the average loss for this epoch\n",
        "    print(f'Epoch {epoch+1}/{num_epochs}, Training Loss: {avg_train_loss}, Validation Loss: {avg_val_loss}')\n",
        "          #, Validation Loss: {avg_val_loss}')\n",
        "\n",
        "\n"
      ]
    },
    {
      "cell_type": "code",
      "execution_count": 83,
      "id": "cd22831d",
      "metadata": {
        "id": "cd22831d"
      },
      "outputs": [],
      "source": [
        "class TestDataset(Dataset):\n",
        "    def __init__(self, data):\n",
        "        self.data = data\n",
        "    \n",
        "    def __getitem__(self, index):\n",
        "        x = self.data[index]\n",
        "        return x\n",
        "    \n",
        "    def __len__(self):\n",
        "        return len(self.data)\n",
        "\n",
        "test_dataset = TestDataset(X_test)\n",
        "test_dataloader = DataLoader(X_test, batch_size=1, shuffle=False)  # For testing\n",
        "\n",
        "model.eval()  # Set the model to evaluation mode\n",
        "predictions = []  # Store the predictions here\n",
        "\n",
        "\n",
        "# # Loop over the test data\n",
        "# for inputs in test_dataloader:\n",
        "#     inputs = inputs.to(device).long()  # Convert inputs to Long\n",
        "#     with torch.no_grad():\n",
        "#         outputs = model(inputs)\n",
        "#         predicted = torch.argmax(outputs, dim=1)  # Get the index of the max log-probability.\n",
        "#         predictions.extend(predicted.tolist())\n",
        "\n",
        "\n",
        "# Loop over the test data\n",
        "for inputs in test_dataloader:\n",
        "    inputs = inputs.to(device).long()\n",
        "    with torch.no_grad():\n",
        "        outputs = model(inputs)\n",
        "        predicted = torch.argmax(outputs, dim=1)  # Get the index of the max log-probability.\n",
        "        predictions.extend(predicted.tolist())\n",
        "\n",
        "# Now, predictions contain the predicted classes of the test set\n"
      ]
    },
    {
      "cell_type": "code",
      "execution_count": 84,
      "id": "3da6ce21",
      "metadata": {
        "colab": {
          "base_uri": "https://localhost:8080/"
        },
        "id": "3da6ce21",
        "outputId": "414cb1a5-3074-4ea7-f3de-f75efe095e0c"
      },
      "outputs": [
        {
          "data": {
            "text/plain": [
              "0      600\n",
              "1      570\n",
              "2      600\n",
              "3      495\n",
              "4      540\n",
              "      ... \n",
              "315    555\n",
              "316    495\n",
              "317    450\n",
              "318    555\n",
              "319    555\n",
              "Length: 320, dtype: int64"
            ]
          },
          "execution_count": 84,
          "metadata": {},
          "output_type": "execute_result"
        }
      ],
      "source": [
        "preds = pd.Series(predictions).map(idx_to_dat).apply(lambda x: x[1])\n",
        "preds"
      ]
    },
    {
      "cell_type": "code",
      "execution_count": 85,
      "id": "13957877",
      "metadata": {
        "colab": {
          "base_uri": "https://localhost:8080/",
          "height": 419
        },
        "id": "13957877",
        "outputId": "803197f9-ddc9-46ef-9274-34bc7cdad07e"
      },
      "outputs": [
        {
          "data": {
            "text/html": [
              "\n",
              "  <div id=\"df-adf7045a-ebfe-4740-b300-886e0be097a3\">\n",
              "    <div class=\"colab-df-container\">\n",
              "      <div>\n",
              "<style scoped>\n",
              "    .dataframe tbody tr th:only-of-type {\n",
              "        vertical-align: middle;\n",
              "    }\n",
              "\n",
              "    .dataframe tbody tr th {\n",
              "        vertical-align: top;\n",
              "    }\n",
              "\n",
              "    .dataframe thead th {\n",
              "        text-align: right;\n",
              "    }\n",
              "</style>\n",
              "<table border=\"1\" class=\"dataframe\">\n",
              "  <thead>\n",
              "    <tr style=\"text-align: right;\">\n",
              "      <th></th>\n",
              "      <th>TRIP_ID</th>\n",
              "      <th>TRAVEL_TIME</th>\n",
              "    </tr>\n",
              "  </thead>\n",
              "  <tbody>\n",
              "    <tr>\n",
              "      <th>0</th>\n",
              "      <td>T1</td>\n",
              "      <td>600</td>\n",
              "    </tr>\n",
              "    <tr>\n",
              "      <th>1</th>\n",
              "      <td>T2</td>\n",
              "      <td>570</td>\n",
              "    </tr>\n",
              "    <tr>\n",
              "      <th>2</th>\n",
              "      <td>T3</td>\n",
              "      <td>600</td>\n",
              "    </tr>\n",
              "    <tr>\n",
              "      <th>3</th>\n",
              "      <td>T4</td>\n",
              "      <td>495</td>\n",
              "    </tr>\n",
              "    <tr>\n",
              "      <th>4</th>\n",
              "      <td>T5</td>\n",
              "      <td>540</td>\n",
              "    </tr>\n",
              "    <tr>\n",
              "      <th>...</th>\n",
              "      <td>...</td>\n",
              "      <td>...</td>\n",
              "    </tr>\n",
              "    <tr>\n",
              "      <th>315</th>\n",
              "      <td>T323</td>\n",
              "      <td>555</td>\n",
              "    </tr>\n",
              "    <tr>\n",
              "      <th>316</th>\n",
              "      <td>T324</td>\n",
              "      <td>495</td>\n",
              "    </tr>\n",
              "    <tr>\n",
              "      <th>317</th>\n",
              "      <td>T325</td>\n",
              "      <td>450</td>\n",
              "    </tr>\n",
              "    <tr>\n",
              "      <th>318</th>\n",
              "      <td>T326</td>\n",
              "      <td>555</td>\n",
              "    </tr>\n",
              "    <tr>\n",
              "      <th>319</th>\n",
              "      <td>T327</td>\n",
              "      <td>555</td>\n",
              "    </tr>\n",
              "  </tbody>\n",
              "</table>\n",
              "<p>320 rows × 2 columns</p>\n",
              "</div>\n",
              "      <button class=\"colab-df-convert\" onclick=\"convertToInteractive('df-adf7045a-ebfe-4740-b300-886e0be097a3')\"\n",
              "              title=\"Convert this dataframe to an interactive table.\"\n",
              "              style=\"display:none;\">\n",
              "        \n",
              "  <svg xmlns=\"http://www.w3.org/2000/svg\" height=\"24px\"viewBox=\"0 0 24 24\"\n",
              "       width=\"24px\">\n",
              "    <path d=\"M0 0h24v24H0V0z\" fill=\"none\"/>\n",
              "    <path d=\"M18.56 5.44l.94 2.06.94-2.06 2.06-.94-2.06-.94-.94-2.06-.94 2.06-2.06.94zm-11 1L8.5 8.5l.94-2.06 2.06-.94-2.06-.94L8.5 2.5l-.94 2.06-2.06.94zm10 10l.94 2.06.94-2.06 2.06-.94-2.06-.94-.94-2.06-.94 2.06-2.06.94z\"/><path d=\"M17.41 7.96l-1.37-1.37c-.4-.4-.92-.59-1.43-.59-.52 0-1.04.2-1.43.59L10.3 9.45l-7.72 7.72c-.78.78-.78 2.05 0 2.83L4 21.41c.39.39.9.59 1.41.59.51 0 1.02-.2 1.41-.59l7.78-7.78 2.81-2.81c.8-.78.8-2.07 0-2.86zM5.41 20L4 18.59l7.72-7.72 1.47 1.35L5.41 20z\"/>\n",
              "  </svg>\n",
              "      </button>\n",
              "      \n",
              "  <style>\n",
              "    .colab-df-container {\n",
              "      display:flex;\n",
              "      flex-wrap:wrap;\n",
              "      gap: 12px;\n",
              "    }\n",
              "\n",
              "    .colab-df-convert {\n",
              "      background-color: #E8F0FE;\n",
              "      border: none;\n",
              "      border-radius: 50%;\n",
              "      cursor: pointer;\n",
              "      display: none;\n",
              "      fill: #1967D2;\n",
              "      height: 32px;\n",
              "      padding: 0 0 0 0;\n",
              "      width: 32px;\n",
              "    }\n",
              "\n",
              "    .colab-df-convert:hover {\n",
              "      background-color: #E2EBFA;\n",
              "      box-shadow: 0px 1px 2px rgba(60, 64, 67, 0.3), 0px 1px 3px 1px rgba(60, 64, 67, 0.15);\n",
              "      fill: #174EA6;\n",
              "    }\n",
              "\n",
              "    [theme=dark] .colab-df-convert {\n",
              "      background-color: #3B4455;\n",
              "      fill: #D2E3FC;\n",
              "    }\n",
              "\n",
              "    [theme=dark] .colab-df-convert:hover {\n",
              "      background-color: #434B5C;\n",
              "      box-shadow: 0px 1px 3px 1px rgba(0, 0, 0, 0.15);\n",
              "      filter: drop-shadow(0px 1px 2px rgba(0, 0, 0, 0.3));\n",
              "      fill: #FFFFFF;\n",
              "    }\n",
              "  </style>\n",
              "\n",
              "      <script>\n",
              "        const buttonEl =\n",
              "          document.querySelector('#df-adf7045a-ebfe-4740-b300-886e0be097a3 button.colab-df-convert');\n",
              "        buttonEl.style.display =\n",
              "          google.colab.kernel.accessAllowed ? 'block' : 'none';\n",
              "\n",
              "        async function convertToInteractive(key) {\n",
              "          const element = document.querySelector('#df-adf7045a-ebfe-4740-b300-886e0be097a3');\n",
              "          const dataTable =\n",
              "            await google.colab.kernel.invokeFunction('convertToInteractive',\n",
              "                                                     [key], {});\n",
              "          if (!dataTable) return;\n",
              "\n",
              "          const docLinkHtml = 'Like what you see? Visit the ' +\n",
              "            '<a target=\"_blank\" href=https://colab.research.google.com/notebooks/data_table.ipynb>data table notebook</a>'\n",
              "            + ' to learn more about interactive tables.';\n",
              "          element.innerHTML = '';\n",
              "          dataTable['output_type'] = 'display_data';\n",
              "          await google.colab.output.renderOutput(dataTable, element);\n",
              "          const docLink = document.createElement('div');\n",
              "          docLink.innerHTML = docLinkHtml;\n",
              "          element.appendChild(docLink);\n",
              "        }\n",
              "      </script>\n",
              "    </div>\n",
              "  </div>\n",
              "  "
            ],
            "text/plain": [
              "    TRIP_ID  TRAVEL_TIME\n",
              "0        T1          600\n",
              "1        T2          570\n",
              "2        T3          600\n",
              "3        T4          495\n",
              "4        T5          540\n",
              "..      ...          ...\n",
              "315    T323          555\n",
              "316    T324          495\n",
              "317    T325          450\n",
              "318    T326          555\n",
              "319    T327          555\n",
              "\n",
              "[320 rows x 2 columns]"
            ]
          },
          "execution_count": 85,
          "metadata": {},
          "output_type": "execute_result"
        }
      ],
      "source": [
        "preds_df = pd.DataFrame({'TRIP_ID': trip_ids, 'TRAVEL_TIME': preds})\n",
        "preds_df"
      ]
    },
    {
      "cell_type": "code",
      "execution_count": 86,
      "id": "uHQEF-0x74td",
      "metadata": {
        "colab": {
          "base_uri": "https://localhost:8080/",
          "height": 498
        },
        "id": "uHQEF-0x74td",
        "outputId": "b7577b65-b6be-4ab5-8142-23826b9b6d69"
      },
      "outputs": [
        {
          "data": {
            "text/plain": [
              "(array([ 80., 177.,  43.,   9.,   2.,   0.,   0.,   2.,   2.,   5.]),\n",
              " array([ 285.,  519.,  753.,  987., 1221., 1455., 1689., 1923., 2157.,\n",
              "        2391., 2625.]),\n",
              " <BarContainer object of 10 artists>)"
            ]
          },
          "execution_count": 86,
          "metadata": {},
          "output_type": "execute_result"
        },
        {
          "data": {
            "image/png": "[encoded data removed]",
            "text/plain": [
              "<Figure size 640x480 with 1 Axes>"
            ]
          },
          "metadata": {},
          "output_type": "display_data"
        }
      ],
      "source": [
        "plt.hist(preds)"
      ]
    },
    {
      "cell_type": "code",
      "execution_count": 68,
      "id": "cGlxYUPq5Sky",
      "metadata": {
        "colab": {
          "base_uri": "https://localhost:8080/",
          "height": 498
        },
        "id": "cGlxYUPq5Sky",
        "outputId": "7309989a-1bd0-4a8b-e84a-7ad0157ec8c6"
      },
      "outputs": [
        {
          "data": {
            "text/plain": [
              "(array([ 80., 177.,  43.,   9.,   2.,   0.,   0.,   2.,   2.,   5.]),\n",
              " array([ 285.,  519.,  753.,  987., 1221., 1455., 1689., 1923., 2157.,\n",
              "        2391., 2625.]),\n",
              " <BarContainer object of 10 artists>)"
            ]
          },
          "execution_count": 68,
          "metadata": {},
          "output_type": "execute_result"
        },
        {
          "data": {
            "image/png": "[encoded data removed]",
            "text/plain": [
              "<Figure size 640x480 with 1 Axes>"
            ]
          },
          "metadata": {},
          "output_type": "display_data"
        }
      ],
      "source": [
        "plt.hist(preds)"
      ]
    },
    {
      "cell_type": "code",
      "execution_count": 69,
      "id": "6a44d2e5",
      "metadata": {
        "id": "6a44d2e5"
      },
      "outputs": [],
      "source": [
        "preds_df.to_csv('drive/MyDrive/Colab Notebooks/preds.csv', index=False)"
      ]
    },
    {
      "cell_type": "code",
      "execution_count": 79,
      "id": "hazxdQhMHi-q",
      "metadata": {
        "id": "hazxdQhMHi-q"
      },
      "outputs": [],
      "source": [
        "best_model = model"
      ]
    },
    {
      "cell_type": "code",
      "execution_count": 80,
      "id": "lOqgLEbeHk4a",
      "metadata": {
        "colab": {
          "base_uri": "https://localhost:8080/"
        },
        "id": "lOqgLEbeHk4a",
        "outputId": "45c607a2-a771-463e-b874-e417c9097327"
      },
      "outputs": [
        {
          "data": {
            "text/plain": [
              "LSTMModel(\n",
              "  (embedding): Embedding(310, 20)\n",
              "  (lstm): LSTM(20, 256, num_layers=4, batch_first=True, dropout=0.5)\n",
              "  (dropout): Dropout(p=0.5, inplace=False)\n",
              "  (fc): Linear(in_features=256, out_features=310, bias=True)\n",
              ")"
            ]
          },
          "execution_count": 80,
          "metadata": {},
          "output_type": "execute_result"
        }
      ],
      "source": [
        "best_model"
      ]
    },
    {
      "cell_type": "code",
      "execution_count": 81,
      "id": "AjzPBWm5Hbma",
      "metadata": {
        "id": "AjzPBWm5Hbma"
      },
      "outputs": [],
      "source": [
        "torch.save(model, 'drive/MyDrive/Colab Notebooks/best_model.pt')"
      ]
    },
    {
      "cell_type": "code",
      "execution_count": 82,
      "id": "lypYfO6iHzmP",
      "metadata": {
        "id": "lypYfO6iHzmP"
      },
      "outputs": [],
      "source": [
        "did_work = torch.load('drive/MyDrive/Colab Notebooks/best_model.pt')"
      ]
    }
  ],
  "metadata": {
    "accelerator": "GPU",
    "colab": {
      "gpuType": "A100",
      "machine_shape": "hm",
      "provenance": []
    },
    "kernelspec": {
      "display_name": "Python 3",
      "name": "python3"
    },
    "language_info": {
      "codemirror_mode": {
        "name": "ipython",
        "version": 3
      },
      "file_extension": ".py",
      "mimetype": "text/x-python",
      "name": "python",
      "nbconvert_exporter": "python",
      "pygments_lexer": "ipython3",
      "version": "3.9.13"
    },
    "vscode": {
      "interpreter": {
        "hash": "da9d9bdd9059dde572f099ebaa5f0b9a8f7e66277cded8e4c321d7db185e55d7"
      }
    }
  },
  "nbformat": 4,
  "nbformat_minor": 5
}
